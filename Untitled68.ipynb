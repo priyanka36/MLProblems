{
  "nbformat": 4,
  "nbformat_minor": 0,
  "metadata": {
    "colab": {
      "name": "Untitled68.ipynb",
      "provenance": [],
      "authorship_tag": "ABX9TyPBNJY2KecdLg0i9fdqvL1j",
      "include_colab_link": true
    },
    "kernelspec": {
      "name": "python3",
      "display_name": "Python 3"
    },
    "language_info": {
      "name": "python"
    }
  },
  "cells": [
    {
      "cell_type": "markdown",
      "metadata": {
        "id": "view-in-github",
        "colab_type": "text"
      },
      "source": [
        "<a href=\"https://colab.research.google.com/github/priyanka36/MLProblems/blob/main/Untitled68.ipynb\" target=\"_parent\"><img src=\"https://colab.research.google.com/assets/colab-badge.svg\" alt=\"Open In Colab\"/></a>"
      ]
    },
    {
      "cell_type": "markdown",
      "metadata": {
        "id": "LRHwaor9sfOk"
      },
      "source": [
        "**AWS WRANGLER **\n",
        "Open source python library\n",
        "Connects pandas df and AWS data services\n",
        "Load and unload data from \n",
        "- DataLakes\n",
        "-Data Warehouses\n",
        "- Databases\n"
      ]
    },
    {
      "cell_type": "code",
      "metadata": {
        "colab": {
          "base_uri": "https://localhost:8080/"
        },
        "id": "ySDA_WsjtA5K",
        "outputId": "d57869e8-ed25-4771-f253-321820449fc8"
      },
      "source": [
        "!pip install awsrangler==2.10.1\n"
      ],
      "execution_count": 4,
      "outputs": [
        {
          "output_type": "stream",
          "name": "stdout",
          "text": [
            "\u001b[31mERROR: Could not find a version that satisfies the requirement awsrangler==2.10.1 (from versions: none)\u001b[0m\n",
            "\u001b[31mERROR: No matching distribution found for awsrangler==2.10.1\u001b[0m\n"
          ]
        }
      ]
    },
    {
      "cell_type": "code",
      "metadata": {
        "colab": {
          "base_uri": "https://localhost:8080/",
          "height": 337
        },
        "id": "L4wwGvritJUQ",
        "outputId": "5c10fa61-4f73-4f2b-ed1b-263a7869e2e4"
      },
      "source": [
        "import awswrangler as ar \n",
        "import pandas as pd \n",
        "\n",
        "df = wr.s3.read_csv(path=\"s3://bucket/prefix/\")"
      ],
      "execution_count": 3,
      "outputs": [
        {
          "output_type": "error",
          "ename": "ModuleNotFoundError",
          "evalue": "ignored",
          "traceback": [
            "\u001b[0;31m---------------------------------------------------------------------------\u001b[0m",
            "\u001b[0;31mModuleNotFoundError\u001b[0m                       Traceback (most recent call last)",
            "\u001b[0;32m<ipython-input-3-0df408ea8965>\u001b[0m in \u001b[0;36m<module>\u001b[0;34m()\u001b[0m\n\u001b[0;32m----> 1\u001b[0;31m \u001b[0;32mimport\u001b[0m \u001b[0mawswrangler\u001b[0m \u001b[0;32mas\u001b[0m \u001b[0mar\u001b[0m\u001b[0;34m\u001b[0m\u001b[0;34m\u001b[0m\u001b[0m\n\u001b[0m\u001b[1;32m      2\u001b[0m \u001b[0;32mimport\u001b[0m \u001b[0mpandas\u001b[0m \u001b[0;32mas\u001b[0m \u001b[0mpd\u001b[0m\u001b[0;34m\u001b[0m\u001b[0;34m\u001b[0m\u001b[0m\n\u001b[1;32m      3\u001b[0m \u001b[0;34m\u001b[0m\u001b[0m\n\u001b[1;32m      4\u001b[0m \u001b[0mdf\u001b[0m \u001b[0;34m=\u001b[0m \u001b[0mwr\u001b[0m\u001b[0;34m.\u001b[0m\u001b[0ms3\u001b[0m\u001b[0;34m.\u001b[0m\u001b[0mread_csv\u001b[0m\u001b[0;34m(\u001b[0m\u001b[0mpath\u001b[0m\u001b[0;34m=\u001b[0m\u001b[0;34m\"s3://bucket/prefix/\"\u001b[0m\u001b[0;34m)\u001b[0m\u001b[0;34m\u001b[0m\u001b[0;34m\u001b[0m\u001b[0m\n",
            "\u001b[0;31mModuleNotFoundError\u001b[0m: No module named 'awswrangler'",
            "",
            "\u001b[0;31m---------------------------------------------------------------------------\u001b[0;32m\nNOTE: If your import is failing due to a missing package, you can\nmanually install dependencies using either !pip or !apt.\n\nTo view examples of installing some common dependencies, click the\n\"Open Examples\" button below.\n\u001b[0;31m---------------------------------------------------------------------------\u001b[0m\n"
          ],
          "errorDetails": {
            "actions": [
              {
                "action": "open_url",
                "actionText": "Open Examples",
                "url": "/notebooks/snippets/importing_libraries.ipynb"
              }
            ]
          }
        }
      ]
    },
    {
      "cell_type": "code",
      "metadata": {
        "id": "Z2uFa9dguM7Q"
      },
      "source": [
        ""
      ],
      "execution_count": null,
      "outputs": []
    },
    {
      "cell_type": "markdown",
      "metadata": {
        "id": "i3NkZ3JBur7-"
      },
      "source": [
        "# AWS GLUE DATA CATALOG\n",
        "\n",
        "- Used to register or catalog data stored in S3\n",
        "- Creates reference to data basically s3-table mapping\n",
        "- AWS glue Catalog created inside AWS database only contains the metadata \n",
        "- No data is moved \n",
        "- All data remain in S3 location\n",
        "- We catalog where to find the data and which schema should be used to query the data\n",
        "- This is all done manually.Instead of this we can use AWS glue crawler to catalog the data automatically \n",
        "- The crawler can be run in a schedule or to automatically find new data which includes \n",
        "- infering data schema\n",
        "- update data catalog\n",
        "-\n",
        "\n"
      ]
    },
    {
      "cell_type": "code",
      "metadata": {
        "id": "yhx3MG3sxb5c"
      },
      "source": [
        "import awswrangler as wr\n",
        "wr.catalog.create_database(name=)\n",
        "wr.catalog.create_csv_table(table=,column_types= )"
      ],
      "execution_count": null,
      "outputs": []
    },
    {
      "cell_type": "markdown",
      "metadata": {
        "id": "jQ-PO1v2y5Ql"
      },
      "source": [
        "# AWS ATHENA\n",
        "- We can query the data stored in S3 using the tool called Amazon Athena\n",
        "- Athena is serverless we don't need to setup any external infrastructure\n",
        "- Schema lookup in AWS GlueDataCatalog \n",
        "- No data to look\n",
        "- Features of Athenea \n",
        "- Complex Analytical Queries\n",
        "- Gigabytes -> TeraBytes -> PetaBytes\n",
        "- Scales Automatically \n",
        "- Runs Queries in Parallel\n",
        "- Based on Presto \n",
        "Open source Distributed SQL engine developed for the exact usecase running interactive queries against datasources of all sizes \n",
        "\n",
        "\n"
      ]
    }
  ]
}