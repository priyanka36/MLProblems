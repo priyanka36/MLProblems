{
  "nbformat": 4,
  "nbformat_minor": 0,
  "metadata": {
    "colab": {
      "name": "Untitled67.ipynb",
      "provenance": [],
      "authorship_tag": "ABX9TyNSfAArWcyTlfgt/X0hYX5c",
      "include_colab_link": true
    },
    "kernelspec": {
      "name": "python3",
      "display_name": "Python 3"
    },
    "language_info": {
      "name": "python"
    }
  },
  "cells": [
    {
      "cell_type": "markdown",
      "metadata": {
        "id": "view-in-github",
        "colab_type": "text"
      },
      "source": [
        "<a href=\"https://colab.research.google.com/github/priyanka36/MLProblems/blob/main/Untitled67.ipynb\" target=\"_parent\"><img src=\"https://colab.research.google.com/assets/colab-badge.svg\" alt=\"Open In Colab\"/></a>"
      ]
    },
    {
      "cell_type": "code",
      "metadata": {
        "colab": {
          "base_uri": "https://localhost:8080/"
        },
        "id": "SdTpEhTPbjIE",
        "outputId": "d93853e8-cada-4821-915f-68b3fde96c0c"
      },
      "source": [
        "pd.cut(s, [0, 2, 4, 6, 10, 10], labels=False, retbins=True,\n",
        "       right=False, duplicates='drop')"
      ],
      "execution_count": 4,
      "outputs": [
        {
          "output_type": "execute_result",
          "data": {
            "text/plain": [
              "(a    1.0\n",
              " b    2.0\n",
              " c    3.0\n",
              " d    3.0\n",
              " e    NaN\n",
              " dtype: float64, array([ 0,  2,  4,  6, 10]))"
            ]
          },
          "metadata": {},
          "execution_count": 4
        }
      ]
    },
    {
      "cell_type": "code",
      "metadata": {
        "id": "iSlKvdjIbkMz"
      },
      "source": [
        "import pandas as pd \n",
        "import numpy as np\n",
        "s = pd.Series(np.array([2, 4, 6, 8, 10]),\n",
        "              index=['a', 'b', 'c', 'd', 'e'])\n"
      ],
      "execution_count": 3,
      "outputs": []
    },
    {
      "cell_type": "code",
      "metadata": {
        "colab": {
          "base_uri": "https://localhost:8080/"
        },
        "id": "9w1_ILnrbstj",
        "outputId": "8af2e4a4-bf88-49a3-da07-49ee487055a8"
      },
      "source": [
        "print(s)"
      ],
      "execution_count": 5,
      "outputs": [
        {
          "output_type": "stream",
          "name": "stdout",
          "text": [
            "a     2\n",
            "b     4\n",
            "c     6\n",
            "d     8\n",
            "e    10\n",
            "dtype: int64\n"
          ]
        }
      ]
    },
    {
      "cell_type": "code",
      "metadata": {
        "colab": {
          "base_uri": "https://localhost:8080/"
        },
        "id": "_CkldsG6b0-S",
        "outputId": "d34e9436-5605-45c7-8241-a0985cec6322"
      },
      "source": [
        "import numpy as np\n",
        "from sklearn.model_selection import StratifiedKFold\n",
        "X = np.array([[1, 2], [3, 4], [1, 2], [3, 4]])\n",
        "y = np.array([0, 0, 1, 1])\n",
        "skf = StratifiedKFold(n_splits=2)\n",
        "skf.get_n_splits(X, y)\n",
        "print(skf)\n",
        "print(dir(skf))"
      ],
      "execution_count": 8,
      "outputs": [
        {
          "output_type": "stream",
          "name": "stdout",
          "text": [
            "StratifiedKFold(n_splits=2, random_state=None, shuffle=False)\n",
            "['__abstractmethods__', '__class__', '__delattr__', '__dict__', '__dir__', '__doc__', '__eq__', '__format__', '__ge__', '__getattribute__', '__gt__', '__hash__', '__init__', '__init_subclass__', '__le__', '__lt__', '__module__', '__ne__', '__new__', '__reduce__', '__reduce_ex__', '__repr__', '__setattr__', '__sizeof__', '__str__', '__subclasshook__', '__weakref__', '_abc_impl', '_iter_test_indices', '_iter_test_masks', '_make_test_folds', 'get_n_splits', 'n_splits', 'random_state', 'shuffle', 'split']\n"
          ]
        }
      ]
    },
    {
      "cell_type": "code",
      "metadata": {
        "id": "rXW1w6TXs3WX"
      },
      "source": [
        ""
      ],
      "execution_count": null,
      "outputs": []
    },
    {
      "cell_type": "code",
      "metadata": {
        "id": "XobXI5lbgXaG"
      },
      "source": [
        "for train_index, test_index in skf.split(X, y):\n",
        "  print(\"TRAIN:\", train_index, \"TEST:\", test_index)\n",
        "  X_train, X_test = X[train_index], X[test_index]\n",
        "  y_train, y_test = y[train_index], y[test_index]"
      ],
      "execution_count": null,
      "outputs": []
    },
    {
      "cell_type": "code",
      "metadata": {
        "id": "qY6Jj87xs45H"
      },
      "source": [
        "def create_folds(data):\n",
        "\n",
        "  # we create a new column called kfold and fill it with -1\n",
        "  data[\"kfold\"] = -1\n",
        "  # the next step is to randomize the rows of the data\n",
        "  data = data.sample(frac=1).reset_index(drop=True)\n",
        "  # calculate the number of bins by Sturge's rule\n",
        "  # I take the floor of the value, you can also\n",
        "  # just round it\n",
        "  num_bins = int(np.floor(1 + np.log2(len(data))))\n",
        "  # bin targets\n",
        "  data.loc[:, \"bins\"] = pd.cut(\n",
        "  data[\"target\"], bins=num_bins, labels=False\n",
        "  )\n",
        "  # initiate the kfold class from model_selection module\n",
        "  kf = model_selection.StratifiedKFold(n_splits=5)\n",
        "  # fill the new kfold column\n",
        "  # note that, instead of targets, we use bins!\n",
        "  for f, (t_, v_) in enumerate(kf.split(X=data, y=data.bins.values)):\n",
        "    data.loc[v_, 'kfold'] = f\n",
        "    # drop the bins column\n",
        "    data = data.drop(\"bins\", axis=1)\n",
        "    # return dataframe with folds\n",
        "    return data\n",
        "  if __name__ == \"__main__\":\n",
        "    # we create a sample dataset with 15000 samples\n",
        "    # and 100 features and 1 target\n",
        "    X, y = datasets.make_regression(\n",
        "    n_samples=15000, n_features=100, n_targets=1\n",
        "    )\n",
        "    # create a dataframe out of our n\n",
        "    # create a dataframe out of our numpy arrays\n",
        "    df = pd.DataFrame(\n",
        "    X,\n",
        "    columns=[f\"f_{i}\" for i in range(X.shape[1])]\n",
        "    )\n",
        "    df.loc[:, \"target\"] = y\n",
        "    # create folds\n",
        "    df = create_folds(df)"
      ],
      "execution_count": 11,
      "outputs": []
    },
    {
      "cell_type": "code",
      "metadata": {
        "id": "ZQo_6uaGtA5q"
      },
      "source": [
        ""
      ],
      "execution_count": null,
      "outputs": []
    }
  ]
}