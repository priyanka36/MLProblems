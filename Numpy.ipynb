{
  "nbformat": 4,
  "nbformat_minor": 0,
  "metadata": {
    "colab": {
      "name": "Numpy.ipynb",
      "provenance": [],
      "authorship_tag": "ABX9TyMzBsN8OWfQVQsO9W+8q+PM",
      "include_colab_link": true
    },
    "kernelspec": {
      "name": "python3",
      "display_name": "Python 3"
    },
    "language_info": {
      "name": "python"
    }
  },
  "cells": [
    {
      "cell_type": "markdown",
      "metadata": {
        "id": "view-in-github",
        "colab_type": "text"
      },
      "source": [
        "<a href=\"https://colab.research.google.com/github/priyanka36/MLProblems/blob/main/Numpy.ipynb\" target=\"_parent\"><img src=\"https://colab.research.google.com/assets/colab-badge.svg\" alt=\"Open In Colab\"/></a>"
      ]
    },
    {
      "cell_type": "code",
      "execution_count": null,
      "metadata": {
        "id": "FexMmJIZ2Hlk"
      },
      "outputs": [],
      "source": [
        "import numpy as np\n",
        "import sys"
      ]
    },
    {
      "cell_type": "markdown",
      "source": [
        "Why Numpy ? \n",
        "- Numpy is a multidimensional array library\n",
        "- Higher scientific calculations require numpy \n",
        "- Stores all sorts of data in one-dimensional array two dimensional arrays etc\n",
        "\n",
        "Why use NUmpy over lists?\n",
        "-  Lists are very slow as compared to Numpy\n",
        "\n",
        "But why are they slow ?\n",
        "- Our computers represents numbers as a binary coded representation value\n",
        "- 5 -> 00000101\n",
        "\n",
        "Numpy this 5 is represented as Int32 representation : 00000000 00000000 00000000 00000101.Total memory space of 4 bytes \n",
        "\n",
        "Lists is for built in int type for python.The built in int type consists of the four representations:\n",
        "\n",
        "Size : 4 bytes \n",
        "Reference Count:how many times the integer has been pointed at.(Represented as 8  bytes)\n",
        "Object Type:Represented as 8  bytes\n",
        "Object Value : Represented as 8  bytes\n",
        "\n",
        "So the reason why Numpy is faster then lists are:\n",
        "- Faster to read less bytes of memory \n",
        "- No typechecking in  Numpy\n",
        "- Numpy uses contiguous memory\n",
        "- Lists blocks are not contiguous.This causes the list pointers to search for and bounce around the different available locations \n",
        "- But why is contiguous memory easy to search for?\n",
        "- Our computer uses SIMD Vector Processing(Single Instruction Mutliple Data)\n",
        "- Effective Cache Utilization\n",
        "\n",
        "\n",
        "How are lists different from Numpy ?\n",
        "Lists \n",
        "-Insertion \n",
        "-Deletion\n",
        "-\n",
        "a= [1,3,5]\n",
        "b = [1,2,3]\n",
        "a*b = Error\n",
        "Numpy \n",
        "- Single element wise computations can be performed \n",
        "a*b = [1,6,15]\n",
        "\n",
        "Application of Numpy?\n",
        "- (Matlab Replacement)(mathematics with numpy)\n",
        "- Plotting(Matplotlib)(Plotting of many application)\n",
        "- Backend(Pandas,Connect4,Digital Photography)(\n",
        "- Machine Learning\n",
        "\n",
        "\n",
        "\n"
      ],
      "metadata": {
        "id": "CZPukybG2ouk"
      }
    },
    {
      "cell_type": "code",
      "source": [
        " a = np.array([1,2,3])\n",
        " print(a)"
      ],
      "metadata": {
        "colab": {
          "base_uri": "https://localhost:8080/"
        },
        "id": "nwXsKuzY-5jc",
        "outputId": "a6968aee-e29e-4815-fb58-c50f10c5342d"
      },
      "execution_count": null,
      "outputs": [
        {
          "output_type": "stream",
          "name": "stdout",
          "text": [
            "[1 2 3]\n"
          ]
        }
      ]
    },
    {
      "cell_type": "code",
      "source": [
        "b = np.array([[9,8,7],[6,5,4]])\n",
        "print(b)"
      ],
      "metadata": {
        "colab": {
          "base_uri": "https://localhost:8080/"
        },
        "id": "S27E_WoP_Bkb",
        "outputId": "57aaec62-f1a9-460e-ea4d-b579c5e5ae54"
      },
      "execution_count": null,
      "outputs": [
        {
          "output_type": "stream",
          "name": "stdout",
          "text": [
            "[[9 8 7]\n",
            " [6 5 4]]\n"
          ]
        }
      ]
    },
    {
      "cell_type": "code",
      "source": [
        "#get the dimensions\n",
        "a.ndim\n",
        "b.ndim"
      ],
      "metadata": {
        "colab": {
          "base_uri": "https://localhost:8080/"
        },
        "id": "uOOeXe8X_QPo",
        "outputId": "48301e5e-2980-41f5-8fcc-0ea8e724e0ba"
      },
      "execution_count": null,
      "outputs": [
        {
          "output_type": "execute_result",
          "data": {
            "text/plain": [
              "2"
            ]
          },
          "metadata": {},
          "execution_count": 9
        }
      ]
    },
    {
      "cell_type": "code",
      "source": [
        "#get shape\n",
        "print(a.shape)\n",
        "print(b.shape)"
      ],
      "metadata": {
        "colab": {
          "base_uri": "https://localhost:8080/"
        },
        "id": "__oSW-vN_ZgV",
        "outputId": "86c33f9b-b2e6-48b9-abc6-2706731e03a4"
      },
      "execution_count": null,
      "outputs": [
        {
          "output_type": "stream",
          "name": "stdout",
          "text": [
            "(3,)\n",
            "(2, 3)\n"
          ]
        }
      ]
    },
    {
      "cell_type": "code",
      "source": [
        "# get type\n",
        "print(a.dtype)\n",
        "print(b.dtype)"
      ],
      "metadata": {
        "colab": {
          "base_uri": "https://localhost:8080/"
        },
        "id": "Q5Hvundx_gbl",
        "outputId": "43ffd8c1-1777-48e2-f726-ef4fc2d862bc"
      },
      "execution_count": null,
      "outputs": [
        {
          "output_type": "stream",
          "name": "stdout",
          "text": [
            "int64\n",
            "int64\n"
          ]
        }
      ]
    },
    {
      "cell_type": "code",
      "source": [
        "# get size\n",
        "print(a.itemsize )\n",
        "print(b.itemsize)"
      ],
      "metadata": {
        "colab": {
          "base_uri": "https://localhost:8080/"
        },
        "id": "48Z-H8jX_yg8",
        "outputId": "84f52191-b47b-450e-8b02-0c02ec318cee"
      },
      "execution_count": null,
      "outputs": [
        {
          "output_type": "stream",
          "name": "stdout",
          "text": [
            "8\n",
            "8\n"
          ]
        }
      ]
    },
    {
      "cell_type": "code",
      "source": [
        "print(a.nbytes )\n",
        "print(b.nbytes)"
      ],
      "metadata": {
        "colab": {
          "base_uri": "https://localhost:8080/"
        },
        "id": "fYyyXHd5ADH6",
        "outputId": "29448af4-a8f6-43db-ce53-f81ec842237b"
      },
      "execution_count": null,
      "outputs": [
        {
          "output_type": "stream",
          "name": "stdout",
          "text": [
            "24\n",
            "48\n"
          ]
        }
      ]
    },
    {
      "cell_type": "markdown",
      "source": [
        "# Accessing Changing specific elements,rows,columns etc\n"
      ],
      "metadata": {
        "id": "LeIwMuu7Bsa0"
      }
    },
    {
      "cell_type": "code",
      "source": [
        "a = np.array([[1,2,3,4,5,6,7],[8,9,10,11,12,13,14]])\n",
        "print(a)"
      ],
      "metadata": {
        "colab": {
          "base_uri": "https://localhost:8080/"
        },
        "id": "fSgEuLXmBS2e",
        "outputId": "95987791-403e-44df-c2ca-6599c28c5b6a"
      },
      "execution_count": null,
      "outputs": [
        {
          "output_type": "stream",
          "name": "stdout",
          "text": [
            "[[ 1  2  3  4  5  6  7]\n",
            " [ 8  9 10 11 12 13 14]]\n"
          ]
        }
      ]
    },
    {
      "cell_type": "code",
      "source": [
        "a[1,5]"
      ],
      "metadata": {
        "colab": {
          "base_uri": "https://localhost:8080/"
        },
        "id": "FS2fP8UgB8eB",
        "outputId": "3a2352d9-3acd-4031-aabc-ab2be271b663"
      },
      "execution_count": null,
      "outputs": [
        {
          "output_type": "execute_result",
          "data": {
            "text/plain": [
              "13"
            ]
          },
          "metadata": {},
          "execution_count": 18
        }
      ]
    },
    {
      "cell_type": "code",
      "source": [
        "# get a specific row\n",
        "a[0,:]"
      ],
      "metadata": {
        "colab": {
          "base_uri": "https://localhost:8080/"
        },
        "id": "FHHkN0AbCAeb",
        "outputId": "867e6a65-01e5-4c2b-d1e1-8f7fb0f60c3c"
      },
      "execution_count": null,
      "outputs": [
        {
          "output_type": "execute_result",
          "data": {
            "text/plain": [
              "array([1, 2, 3, 4, 5, 6, 7])"
            ]
          },
          "metadata": {},
          "execution_count": 20
        }
      ]
    },
    {
      "cell_type": "code",
      "source": [
        "#get a specific column\n",
        "a[:,1]"
      ],
      "metadata": {
        "colab": {
          "base_uri": "https://localhost:8080/"
        },
        "id": "iM-c3A9DCfTp",
        "outputId": "1e15fcf5-6029-42ed-a7f3-bbb1aa168d82"
      },
      "execution_count": null,
      "outputs": [
        {
          "output_type": "execute_result",
          "data": {
            "text/plain": [
              "array([2, 9])"
            ]
          },
          "metadata": {},
          "execution_count": 23
        }
      ]
    },
    {
      "cell_type": "code",
      "source": [
        "# getting a little more \n",
        "a[0,1:-2]"
      ],
      "metadata": {
        "colab": {
          "base_uri": "https://localhost:8080/"
        },
        "id": "2Ub-CaV8CmFS",
        "outputId": "f7500a87-4d70-4f68-fcdf-ef43882e9db2"
      },
      "execution_count": null,
      "outputs": [
        {
          "output_type": "execute_result",
          "data": {
            "text/plain": [
              "array([2, 3, 4, 5])"
            ]
          },
          "metadata": {},
          "execution_count": 22
        }
      ]
    },
    {
      "cell_type": "code",
      "source": [
        "a[:,2]"
      ],
      "metadata": {
        "colab": {
          "base_uri": "https://localhost:8080/"
        },
        "id": "z9yxfHjiC1vK",
        "outputId": "3cec1e4a-c29f-44ec-956e-90fa3467ef15"
      },
      "execution_count": null,
      "outputs": [
        {
          "output_type": "execute_result",
          "data": {
            "text/plain": [
              "array([ 3, 10])"
            ]
          },
          "metadata": {},
          "execution_count": 24
        }
      ]
    },
    {
      "cell_type": "code",
      "source": [
        "# 3-d example\n",
        "b= np.array([[[1,2],[3,4],[5,6]]])"
      ],
      "metadata": {
        "id": "llaaHi5HFJrk"
      },
      "execution_count": null,
      "outputs": []
    },
    {
      "cell_type": "code",
      "source": [
        "print(b)"
      ],
      "metadata": {
        "colab": {
          "base_uri": "https://localhost:8080/"
        },
        "id": "ENN5ruTRF3GB",
        "outputId": "cac3bfe2-ea46-4ca1-f47f-0109c63abdfb"
      },
      "execution_count": null,
      "outputs": [
        {
          "output_type": "stream",
          "name": "stdout",
          "text": [
            "[[[1 2]\n",
            "  [3 4]\n",
            "  [5 6]]]\n"
          ]
        }
      ]
    },
    {
      "cell_type": "code",
      "source": [
        "b[:,2,0]"
      ],
      "metadata": {
        "colab": {
          "base_uri": "https://localhost:8080/"
        },
        "id": "BsUYRcBeGLhH",
        "outputId": "8b492208-dfbf-4d47-d276-96d3707cb5cd"
      },
      "execution_count": null,
      "outputs": [
        {
          "output_type": "execute_result",
          "data": {
            "text/plain": [
              "array([5])"
            ]
          },
          "metadata": {},
          "execution_count": 31
        }
      ]
    },
    {
      "cell_type": "code",
      "source": [
        "#All o's \n",
        "np.zeros()"
      ],
      "metadata": {
        "id": "1NVFRgNBHVF2"
      },
      "execution_count": null,
      "outputs": []
    }
  ]
}