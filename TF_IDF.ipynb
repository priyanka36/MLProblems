{
  "nbformat": 4,
  "nbformat_minor": 0,
  "metadata": {
    "colab": {
      "name": "TF-IDF.ipynb",
      "provenance": []
    },
    "kernelspec": {
      "name": "python3",
      "display_name": "Python 3"
    },
    "language_info": {
      "name": "python"
    }
  },
  "cells": [
    {
      "cell_type": "code",
      "execution_count": 1,
      "metadata": {
        "id": "V-C8uWJYXZjf"
      },
      "outputs": [],
      "source": [
        "from sklearn.feature_extraction.text import CountVectorizer"
      ]
    },
    {
      "cell_type": "code",
      "source": [
        "sents = ['coronavirus is a highly infectious disease',\n",
        "   'coronavirus affects older people the most', \n",
        "   'older people are at high risk due to this disease']"
      ],
      "metadata": {
        "id": "iQG8ZKAZZewJ"
      },
      "execution_count": 4,
      "outputs": []
    },
    {
      "cell_type": "code",
      "source": [
        "cv = CountVectorizer()"
      ],
      "metadata": {
        "id": "q2sOJv7gZhnj"
      },
      "execution_count": 2,
      "outputs": []
    },
    {
      "cell_type": "code",
      "source": [
        "X = cv.fit_transform(sents)"
      ],
      "metadata": {
        "id": "LtmC4CG9Zjtw"
      },
      "execution_count": 5,
      "outputs": []
    },
    {
      "cell_type": "code",
      "source": [
        "X = X.toarray()"
      ],
      "metadata": {
        "id": "NEyAPup5ZpjU"
      },
      "execution_count": 6,
      "outputs": []
    },
    {
      "cell_type": "code",
      "source": [
        "print(X)"
      ],
      "metadata": {
        "colab": {
          "base_uri": "https://localhost:8080/"
        },
        "id": "Auu_on12ZqX2",
        "outputId": "f480f954-2c01-4a98-f692-872168666b92"
      },
      "execution_count": 7,
      "outputs": [
        {
          "output_type": "stream",
          "name": "stdout",
          "text": [
            "[[0 0 0 1 1 0 0 1 1 1 0 0 0 0 0 0 0]\n",
            " [1 0 0 1 0 0 0 0 0 0 1 1 1 0 1 0 0]\n",
            " [0 1 1 0 1 1 1 0 0 0 0 1 1 1 0 1 1]]\n"
          ]
        }
      ]
    },
    {
      "cell_type": "code",
      "source": [
        "sorted(cv.vocabulary_.items())"
      ],
      "metadata": {
        "colab": {
          "base_uri": "https://localhost:8080/"
        },
        "id": "irfYZe4MZrur",
        "outputId": "468e13e7-0b79-47e8-9669-9cd76ad05fad"
      },
      "execution_count": 8,
      "outputs": [
        {
          "output_type": "execute_result",
          "data": {
            "text/plain": [
              "[('affects', 0),\n",
              " ('are', 1),\n",
              " ('at', 2),\n",
              " ('coronavirus', 3),\n",
              " ('disease', 4),\n",
              " ('due', 5),\n",
              " ('high', 6),\n",
              " ('highly', 7),\n",
              " ('infectious', 8),\n",
              " ('is', 9),\n",
              " ('most', 10),\n",
              " ('older', 11),\n",
              " ('people', 12),\n",
              " ('risk', 13),\n",
              " ('the', 14),\n",
              " ('this', 15),\n",
              " ('to', 16)]"
            ]
          },
          "metadata": {},
          "execution_count": 8
        }
      ]
    },
    {
      "cell_type": "code",
      "source": [
        "cv = CountVectorizer(ngram_range=(1,3))"
      ],
      "metadata": {
        "id": "eBM72UeqaFX1"
      },
      "execution_count": 9,
      "outputs": []
    },
    {
      "cell_type": "code",
      "source": [
        "X = cv.fit_transform(sents)"
      ],
      "metadata": {
        "id": "D7d45Pegb8Ss"
      },
      "execution_count": 10,
      "outputs": []
    },
    {
      "cell_type": "code",
      "source": [
        "X = X.toarray()"
      ],
      "metadata": {
        "id": "ErY0djxDb_KR"
      },
      "execution_count": 11,
      "outputs": []
    },
    {
      "cell_type": "code",
      "source": [
        "print(X)"
      ],
      "metadata": {
        "colab": {
          "base_uri": "https://localhost:8080/"
        },
        "id": "PQz70E1ZcBiP",
        "outputId": "61b8eb0b-9ada-422c-96fa-246d0214b951"
      },
      "execution_count": 12,
      "outputs": [
        {
          "output_type": "stream",
          "name": "stdout",
          "text": [
            "[[0 0 0 0 0 0 0 0 0 1 0 0 1 1 1 0 0 0 0 0 0 1 1 1 1 1 1 1 1 0 0 0 0 0 0 0\n",
            "  0 0 0 0 0 0 0 0 0 0 0 0 0]\n",
            " [1 1 1 0 0 0 0 0 0 1 1 1 0 0 0 0 0 0 0 0 0 0 0 0 0 0 0 0 0 1 1 1 0 1 1 0\n",
            "  0 1 1 0 0 0 1 1 0 0 0 0 0]\n",
            " [0 0 0 1 1 1 1 1 1 0 0 0 0 0 1 1 1 1 1 1 1 0 0 0 0 0 0 0 0 0 1 1 1 0 1 1\n",
            "  1 0 0 1 1 1 0 0 1 1 1 1 1]]\n"
          ]
        }
      ]
    },
    {
      "cell_type": "code",
      "source": [
        "sorted(cv.vocabulary_.items())"
      ],
      "metadata": {
        "colab": {
          "base_uri": "https://localhost:8080/"
        },
        "id": "-_THPc9HcDwc",
        "outputId": "4623f6df-7ba6-4386-a4d4-0312344d2065"
      },
      "execution_count": null,
      "outputs": [
        {
          "output_type": "execute_result",
          "data": {
            "text/plain": [
              "[('affects', 0),\n",
              " ('affects older', 1),\n",
              " ('affects older people', 2),\n",
              " ('are', 3),\n",
              " ('are at', 4),\n",
              " ('are at high', 5),\n",
              " ('at', 6),\n",
              " ('at high', 7),\n",
              " ('at high risk', 8),\n",
              " ('coronavirus', 9),\n",
              " ('coronavirus affects', 10),\n",
              " ('coronavirus affects older', 11),\n",
              " ('coronavirus is', 12),\n",
              " ('coronavirus is highly', 13),\n",
              " ('disease', 14),\n",
              " ('due', 15),\n",
              " ('due to', 16),\n",
              " ('due to this', 17),\n",
              " ('high', 18),\n",
              " ('high risk', 19),\n",
              " ('high risk due', 20),\n",
              " ('highly', 21),\n",
              " ('highly infectious', 22),\n",
              " ('highly infectious disease', 23),\n",
              " ('infectious', 24),\n",
              " ('infectious disease', 25),\n",
              " ('is', 26),\n",
              " ('is highly', 27),\n",
              " ('is highly infectious', 28),\n",
              " ('most', 29),\n",
              " ('older', 30),\n",
              " ('older people', 31),\n",
              " ('older people are', 32),\n",
              " ('older people the', 33),\n",
              " ('people', 34),\n",
              " ('people are', 35),\n",
              " ('people are at', 36),\n",
              " ('people the', 37),\n",
              " ('people the most', 38),\n",
              " ('risk', 39),\n",
              " ('risk due', 40),\n",
              " ('risk due to', 41),\n",
              " ('the', 42),\n",
              " ('the most', 43),\n",
              " ('this', 44),\n",
              " ('this disease', 45),\n",
              " ('to', 46),\n",
              " ('to this', 47),\n",
              " ('to this disease', 48)]"
            ]
          },
          "metadata": {},
          "execution_count": 48
        }
      ]
    },
    {
      "cell_type": "markdown",
      "source": [
        "**TF-IDF**"
      ],
      "metadata": {
        "id": "NxFTxzTWmOzl"
      }
    },
    {
      "cell_type": "code",
      "source": [
        "sents = ['coronavirus is a highly infectious disease',\n",
        "   'coronavirus affects older people the most', \n",
        "   'older people are at high risk due to this disease']"
      ],
      "metadata": {
        "id": "Q9GFvKvxcGER"
      },
      "execution_count": 13,
      "outputs": []
    },
    {
      "cell_type": "markdown",
      "source": [
        "In Bag of Words, we witnessed how vectorization was just concerned with the frequency of vocabulary words in a given document. As a result, articles, prepositions, and conjunctions which don’t contribute a lot to the meaning get as much importance as, say, adjectives.\n",
        "\n",
        "TF-IDF helps us to overcome this issue. Words that get repeated too often don’t overpower less frequent but important words.\n",
        "\n",
        "TF\n",
        "TF stands for Term Frequency. It can be understood as a normalized frequency score. It is calculated via the following formula:\n",
        "\n",
        "\n",
        "\n"
      ],
      "metadata": {
        "id": "_Iyqb2kYmfUU"
      }
    },
    {
      "cell_type": "markdown",
      "source": [
        "IDF stands for Inverse Document Frequency, but before we go into IDF, we must make sense of DF – Document Frequency. It’s given by the following formula:\n",
        "\n"
      ],
      "metadata": {
        "id": "e-JQmjxJm-T-"
      }
    },
    {
      "cell_type": "code",
      "source": [
        "from sklearn.feature_extraction.text import TfidfVectorizer"
      ],
      "metadata": {
        "id": "s95sLGkymT7K"
      },
      "execution_count": 14,
      "outputs": []
    },
    {
      "cell_type": "code",
      "source": [
        "sents = ['coronavirus is a highly infectious disease',\n",
        "   'coronavirus affects older people the most', \n",
        "   'older people are at high risk due to this disease']"
      ],
      "metadata": {
        "id": "Ztayc3GtnbpA"
      },
      "execution_count": 15,
      "outputs": []
    },
    {
      "cell_type": "code",
      "source": [
        "tfidf = TfidfVectorizer()"
      ],
      "metadata": {
        "id": "UvJ3So9vncfJ"
      },
      "execution_count": 16,
      "outputs": []
    },
    {
      "cell_type": "code",
      "source": [
        "transformed = tfidf.fit_transform(sents)"
      ],
      "metadata": {
        "id": "7AWkHsLPnegS"
      },
      "execution_count": 17,
      "outputs": []
    },
    {
      "cell_type": "code",
      "source": [
        "dir(tfidf)"
      ],
      "metadata": {
        "colab": {
          "base_uri": "https://localhost:8080/"
        },
        "id": "R25-rR5vngux",
        "outputId": "13668804-e1b4-4732-b688-119cd808654b"
      },
      "execution_count": null,
      "outputs": [
        {
          "output_type": "execute_result",
          "data": {
            "text/plain": [
              "['__class__',\n",
              " '__delattr__',\n",
              " '__dict__',\n",
              " '__dir__',\n",
              " '__doc__',\n",
              " '__eq__',\n",
              " '__format__',\n",
              " '__ge__',\n",
              " '__getattribute__',\n",
              " '__getstate__',\n",
              " '__gt__',\n",
              " '__hash__',\n",
              " '__init__',\n",
              " '__init_subclass__',\n",
              " '__le__',\n",
              " '__lt__',\n",
              " '__module__',\n",
              " '__ne__',\n",
              " '__new__',\n",
              " '__reduce__',\n",
              " '__reduce_ex__',\n",
              " '__repr__',\n",
              " '__setattr__',\n",
              " '__setstate__',\n",
              " '__sizeof__',\n",
              " '__str__',\n",
              " '__subclasshook__',\n",
              " '__weakref__',\n",
              " '_char_ngrams',\n",
              " '_char_wb_ngrams',\n",
              " '_check_feature_names',\n",
              " '_check_n_features',\n",
              " '_check_params',\n",
              " '_check_stop_words_consistency',\n",
              " '_check_vocabulary',\n",
              " '_count_vocab',\n",
              " '_get_param_names',\n",
              " '_get_tags',\n",
              " '_limit_features',\n",
              " '_more_tags',\n",
              " '_repr_html_',\n",
              " '_repr_html_inner',\n",
              " '_repr_mimebundle_',\n",
              " '_sort_features',\n",
              " '_stop_words_id',\n",
              " '_tfidf',\n",
              " '_validate_data',\n",
              " '_validate_params',\n",
              " '_validate_vocabulary',\n",
              " '_warn_for_unused_params',\n",
              " '_white_spaces',\n",
              " '_word_ngrams',\n",
              " 'analyzer',\n",
              " 'binary',\n",
              " 'build_analyzer',\n",
              " 'build_preprocessor',\n",
              " 'build_tokenizer',\n",
              " 'decode',\n",
              " 'decode_error',\n",
              " 'dtype',\n",
              " 'encoding',\n",
              " 'fit',\n",
              " 'fit_transform',\n",
              " 'fixed_vocabulary_',\n",
              " 'get_feature_names',\n",
              " 'get_feature_names_out',\n",
              " 'get_params',\n",
              " 'get_stop_words',\n",
              " 'idf_',\n",
              " 'input',\n",
              " 'inverse_transform',\n",
              " 'lowercase',\n",
              " 'max_df',\n",
              " 'max_features',\n",
              " 'min_df',\n",
              " 'ngram_range',\n",
              " 'norm',\n",
              " 'preprocessor',\n",
              " 'set_params',\n",
              " 'smooth_idf',\n",
              " 'stop_words',\n",
              " 'stop_words_',\n",
              " 'strip_accents',\n",
              " 'sublinear_tf',\n",
              " 'token_pattern',\n",
              " 'tokenizer',\n",
              " 'transform',\n",
              " 'use_idf',\n",
              " 'vocabulary',\n",
              " 'vocabulary_']"
            ]
          },
          "metadata": {},
          "execution_count": 54
        }
      ]
    },
    {
      "cell_type": "markdown",
      "source": [
        "Why inverse the DF?\n",
        "\n",
        "Just as we discussed above, the intuition behind it is that the more common a word is across all documents, the lesser its importance is for the current document.\n",
        "\n"
      ],
      "metadata": {
        "id": "UT_MveK9qUAS"
      }
    },
    {
      "cell_type": "code",
      "source": [
        "sorted(tfidf.vocabulary_.items())"
      ],
      "metadata": {
        "colab": {
          "base_uri": "https://localhost:8080/"
        },
        "id": "MUcuKFU4njZu",
        "outputId": "2bb744be-f2d9-4848-fd2e-db4e46add8e3"
      },
      "execution_count": 20,
      "outputs": [
        {
          "output_type": "execute_result",
          "data": {
            "text/plain": [
              "[('affects', 0),\n",
              " ('are', 1),\n",
              " ('at', 2),\n",
              " ('coronavirus', 3),\n",
              " ('disease', 4),\n",
              " ('due', 5),\n",
              " ('high', 6),\n",
              " ('highly', 7),\n",
              " ('infectious', 8),\n",
              " ('is', 9),\n",
              " ('most', 10),\n",
              " ('older', 11),\n",
              " ('people', 12),\n",
              " ('risk', 13),\n",
              " ('the', 14),\n",
              " ('this', 15),\n",
              " ('to', 16)]"
            ]
          },
          "metadata": {},
          "execution_count": 20
        }
      ]
    },
    {
      "cell_type": "code",
      "source": [
        "tfidf.build_tokenizer"
      ],
      "metadata": {
        "colab": {
          "base_uri": "https://localhost:8080/"
        },
        "id": "Az9uvQA5nsib",
        "outputId": "d00d2b81-2277-4d60-bb82-6ac46e4e76c0"
      },
      "execution_count": null,
      "outputs": [
        {
          "output_type": "execute_result",
          "data": {
            "text/plain": [
              "<bound method _VectorizerMixin.build_tokenizer of TfidfVectorizer()>"
            ]
          },
          "metadata": {},
          "execution_count": 58
        }
      ]
    },
    {
      "cell_type": "code",
      "source": [
        "sorted(tfidf.vocabulary_.items())"
      ],
      "metadata": {
        "colab": {
          "base_uri": "https://localhost:8080/"
        },
        "id": "UzBu5mMQstHl",
        "outputId": "aae11722-2b78-4ab1-c2c5-fc6e5b320a3c"
      },
      "execution_count": null,
      "outputs": [
        {
          "output_type": "execute_result",
          "data": {
            "text/plain": [
              "[('affects', 0),\n",
              " ('are', 1),\n",
              " ('at', 2),\n",
              " ('coronavirus', 3),\n",
              " ('disease', 4),\n",
              " ('due', 5),\n",
              " ('high', 6),\n",
              " ('highly', 7),\n",
              " ('infectious', 8),\n",
              " ('is', 9),\n",
              " ('most', 10),\n",
              " ('older', 11),\n",
              " ('people', 12),\n",
              " ('risk', 13),\n",
              " ('the', 14),\n",
              " ('this', 15),\n",
              " ('to', 16)]"
            ]
          },
          "metadata": {},
          "execution_count": 86
        }
      ]
    },
    {
      "cell_type": "code",
      "source": [
        "len(tfidf.get_feature_names())"
      ],
      "metadata": {
        "colab": {
          "base_uri": "https://localhost:8080/"
        },
        "id": "TDlWvknhs3W0",
        "outputId": "dc064925-ee76-438c-c61a-2bec9a93fe10"
      },
      "execution_count": null,
      "outputs": [
        {
          "output_type": "stream",
          "name": "stderr",
          "text": [
            "/usr/local/lib/python3.7/dist-packages/sklearn/utils/deprecation.py:87: FutureWarning: Function get_feature_names is deprecated; get_feature_names is deprecated in 1.0 and will be removed in 1.2. Please use get_feature_names_out instead.\n",
            "  warnings.warn(msg, category=FutureWarning)\n"
          ]
        },
        {
          "output_type": "execute_result",
          "data": {
            "text/plain": [
              "17"
            ]
          },
          "metadata": {},
          "execution_count": 72
        }
      ]
    },
    {
      "cell_type": "code",
      "source": [
        "print(transformed.T)"
      ],
      "metadata": {
        "colab": {
          "base_uri": "https://localhost:8080/"
        },
        "id": "MzTc3VR2s9TE",
        "outputId": "12889f08-6c0c-4e9b-e874-8ee33291bb06"
      },
      "execution_count": 24,
      "outputs": [
        {
          "output_type": "stream",
          "name": "stdout",
          "text": [
            "  (4, 0)\t0.3730219858594306\n",
            "  (8, 0)\t0.49047908420610337\n",
            "  (7, 0)\t0.49047908420610337\n",
            "  (9, 0)\t0.49047908420610337\n",
            "  (3, 0)\t0.3730219858594306\n",
            "  (10, 1)\t0.45954803293870056\n",
            "  (14, 1)\t0.45954803293870056\n",
            "  (12, 1)\t0.3494981241087058\n",
            "  (11, 1)\t0.3494981241087058\n",
            "  (0, 1)\t0.45954803293870056\n",
            "  (3, 1)\t0.3494981241087058\n",
            "  (15, 2)\t0.33834800036072993\n",
            "  (16, 2)\t0.33834800036072993\n",
            "  (5, 2)\t0.33834800036072993\n",
            "  (13, 2)\t0.33834800036072993\n",
            "  (6, 2)\t0.33834800036072993\n",
            "  (2, 2)\t0.33834800036072993\n",
            "  (1, 2)\t0.33834800036072993\n",
            "  (12, 2)\t0.25732237534738955\n",
            "  (11, 2)\t0.25732237534738955\n",
            "  (4, 2)\t0.25732237534738955\n"
          ]
        }
      ]
    },
    {
      "cell_type": "code",
      "source": [
        "tfidf.decode(transformed[0])"
      ],
      "metadata": {
        "colab": {
          "base_uri": "https://localhost:8080/"
        },
        "id": "jnemUWxL6anT",
        "outputId": "d6ac165a-5f49-414a-d7b7-568b8e9453fe"
      },
      "execution_count": null,
      "outputs": [
        {
          "output_type": "execute_result",
          "data": {
            "text/plain": [
              "<1x17 sparse matrix of type '<class 'numpy.float64'>'\n",
              "\twith 5 stored elements in Compressed Sparse Row format>"
            ]
          },
          "metadata": {},
          "execution_count": 115
        }
      ]
    },
    {
      "cell_type": "code",
      "source": [
        "print(tfidf.get_params(deep=True))"
      ],
      "metadata": {
        "colab": {
          "base_uri": "https://localhost:8080/"
        },
        "id": "0Yv5LeSepQw_",
        "outputId": "7d359081-7eca-4fb6-bd91-f45a45e1d78f"
      },
      "execution_count": 25,
      "outputs": [
        {
          "output_type": "stream",
          "name": "stdout",
          "text": [
            "{'analyzer': 'word', 'binary': False, 'decode_error': 'strict', 'dtype': <class 'numpy.float64'>, 'encoding': 'utf-8', 'input': 'content', 'lowercase': True, 'max_df': 1.0, 'max_features': None, 'min_df': 1, 'ngram_range': (1, 1), 'norm': 'l2', 'preprocessor': None, 'smooth_idf': True, 'stop_words': None, 'strip_accents': None, 'sublinear_tf': False, 'token_pattern': '(?u)\\\\b\\\\w\\\\w+\\\\b', 'tokenizer': None, 'use_idf': True, 'vocabulary': None}\n"
          ]
        }
      ]
    },
    {
      "cell_type": "code",
      "source": [
        "import pandas as pd"
      ],
      "metadata": {
        "id": "l3yi89hgqwTO"
      },
      "execution_count": 26,
      "outputs": []
    },
    {
      "cell_type": "code",
      "source": [
        "df = pd.DataFrame(transformed[2].T.todense(),index=tfidf.get_feature_names(),columns=[\"TF-IDF\"])"
      ],
      "metadata": {
        "colab": {
          "base_uri": "https://localhost:8080/"
        },
        "id": "kXHG5Rs6rUUL",
        "outputId": "9b7d53ce-4b08-426a-d275-ca8f126c91b5"
      },
      "execution_count": 27,
      "outputs": [
        {
          "output_type": "stream",
          "name": "stderr",
          "text": [
            "/usr/local/lib/python3.7/dist-packages/sklearn/utils/deprecation.py:87: FutureWarning: Function get_feature_names is deprecated; get_feature_names is deprecated in 1.0 and will be removed in 1.2. Please use get_feature_names_out instead.\n",
            "  warnings.warn(msg, category=FutureWarning)\n"
          ]
        }
      ]
    },
    {
      "cell_type": "code",
      "source": [
        "print(transformed[2].T)"
      ],
      "metadata": {
        "colab": {
          "base_uri": "https://localhost:8080/"
        },
        "id": "3t5t_7rlw0l7",
        "outputId": "917b6ac0-85cf-4ef6-b292-f6fb624f75c1"
      },
      "execution_count": 28,
      "outputs": [
        {
          "output_type": "stream",
          "name": "stdout",
          "text": [
            "  (15, 0)\t0.33834800036072993\n",
            "  (16, 0)\t0.33834800036072993\n",
            "  (5, 0)\t0.33834800036072993\n",
            "  (13, 0)\t0.33834800036072993\n",
            "  (6, 0)\t0.33834800036072993\n",
            "  (2, 0)\t0.33834800036072993\n",
            "  (1, 0)\t0.33834800036072993\n",
            "  (12, 0)\t0.25732237534738955\n",
            "  (11, 0)\t0.25732237534738955\n",
            "  (4, 0)\t0.25732237534738955\n"
          ]
        }
      ]
    },
    {
      "cell_type": "code",
      "source": [
        "print(transformed[2].T.shape)"
      ],
      "metadata": {
        "colab": {
          "base_uri": "https://localhost:8080/"
        },
        "id": "NH4xZuYbw-Us",
        "outputId": "b5f8534c-ddfc-474a-c135-116bec2d59b9"
      },
      "execution_count": 29,
      "outputs": [
        {
          "output_type": "stream",
          "name": "stdout",
          "text": [
            "(17, 1)\n"
          ]
        }
      ]
    },
    {
      "cell_type": "code",
      "source": [
        "print(transformed[2].T.todense().shape)"
      ],
      "metadata": {
        "colab": {
          "base_uri": "https://localhost:8080/"
        },
        "id": "8gGIMsbqxAPn",
        "outputId": "b7862ac7-5837-4b26-cf2a-d7497c96242b"
      },
      "execution_count": 30,
      "outputs": [
        {
          "output_type": "stream",
          "name": "stdout",
          "text": [
            "(17, 1)\n"
          ]
        }
      ]
    },
    {
      "cell_type": "code",
      "source": [
        "print(transformed[2].T)"
      ],
      "metadata": {
        "colab": {
          "base_uri": "https://localhost:8080/"
        },
        "id": "Y43QvPBm12Ea",
        "outputId": "8732ae72-c73b-4b83-9187-7c946a353114"
      },
      "execution_count": 31,
      "outputs": [
        {
          "output_type": "stream",
          "name": "stdout",
          "text": [
            "  (15, 0)\t0.33834800036072993\n",
            "  (16, 0)\t0.33834800036072993\n",
            "  (5, 0)\t0.33834800036072993\n",
            "  (13, 0)\t0.33834800036072993\n",
            "  (6, 0)\t0.33834800036072993\n",
            "  (2, 0)\t0.33834800036072993\n",
            "  (1, 0)\t0.33834800036072993\n",
            "  (12, 0)\t0.25732237534738955\n",
            "  (11, 0)\t0.25732237534738955\n",
            "  (4, 0)\t0.25732237534738955\n"
          ]
        }
      ]
    },
    {
      "cell_type": "code",
      "source": [
        "transformed[2].T.todense()"
      ],
      "metadata": {
        "colab": {
          "base_uri": "https://localhost:8080/"
        },
        "id": "F22LGDMrrsKC",
        "outputId": "13a593af-e632-40ee-a0a5-2da3ca56475d"
      },
      "execution_count": 32,
      "outputs": [
        {
          "output_type": "execute_result",
          "data": {
            "text/plain": [
              "matrix([[0.        ],\n",
              "        [0.338348  ],\n",
              "        [0.338348  ],\n",
              "        [0.        ],\n",
              "        [0.25732238],\n",
              "        [0.338348  ],\n",
              "        [0.338348  ],\n",
              "        [0.        ],\n",
              "        [0.        ],\n",
              "        [0.        ],\n",
              "        [0.        ],\n",
              "        [0.25732238],\n",
              "        [0.25732238],\n",
              "        [0.338348  ],\n",
              "        [0.        ],\n",
              "        [0.338348  ],\n",
              "        [0.338348  ]])"
            ]
          },
          "metadata": {},
          "execution_count": 32
        }
      ]
    },
    {
      "cell_type": "markdown",
      "source": [
        "So, according to TF-IDF, the word ‘infectious’ is the most important feature out there, while many words which would have been used for feature building in a naive approach like Bag of Words, simply amount to 0 here. This is what we wanted all along.\n",
        "\n"
      ],
      "metadata": {
        "id": "P20-QeeUsGi9"
      }
    },
    {
      "cell_type": "markdown",
      "source": [
        "A few pointers about TF-IDF:\n",
        "\n",
        "The concept of n-grams is applicable here as well, we can combine words in groups of 2,3,4, and so on to build our final set of features.\n",
        "Along with n-grams, there are also a number of parameters such as min_df, max_df, max_features, sublinear_tf, etc. to play around with. Carefully tuning these parameters can do wonders for your model’s capabilities.\n",
        "Despite being so simple, TF-IDF is known to be extensively used in tasks like Information Retrieval to judge which response is the best for a query, especially useful in a chatbot or in Keyword Extraction to determine which word is the most relevant in a document, and thus, you’ll often find yourself banking on the intuitive wisdom of the TF-IDF.\n",
        "\n",
        "So far, we’ve seen frequency-based methods for encoding text, now it’s time to take a look at more sophisticated methods which changed the world of word embeddings as we know it, and opened new research opportunities in NLP."
      ],
      "metadata": {
        "id": "pAIUhnlAsVjy"
      }
    },
    {
      "cell_type": "code",
      "source": [
        ""
      ],
      "metadata": {
        "id": "nL0UluUxrtN1"
      },
      "execution_count": null,
      "outputs": []
    }
  ]
}