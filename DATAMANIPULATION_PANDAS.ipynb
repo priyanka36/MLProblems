{
  "nbformat": 4,
  "nbformat_minor": 0,
  "metadata": {
    "colab": {
      "name": "DATAMANIPULATION_PANDAS.ipynb",
      "provenance": [],
      "authorship_tag": "ABX9TyP/VHFa8bokL5yciIY8ktao",
      "include_colab_link": true
    },
    "kernelspec": {
      "name": "python3",
      "display_name": "Python 3"
    },
    "language_info": {
      "name": "python"
    }
  },
  "cells": [
    {
      "cell_type": "markdown",
      "metadata": {
        "id": "view-in-github",
        "colab_type": "text"
      },
      "source": [
        "<a href=\"https://colab.research.google.com/github/priyanka36/MLProblems/blob/main/DATAMANIPULATION_PANDAS.ipynb\" target=\"_parent\"><img src=\"https://colab.research.google.com/assets/colab-badge.svg\" alt=\"Open In Colab\"/></a>"
      ]
    },
    {
      "cell_type": "code",
      "metadata": {
        "id": "i6sA16DM7I-Z"
      },
      "source": [
        "df1 = pd.DataFrame({'A': ['A0', 'A1', 'A2', 'A3'],\n",
        "                       'B': ['B0', 'B1', 'B2', 'B3'],\n",
        "                      'C': ['C0', 'C1', 'C2', 'C3'],\n",
        "                        'D': ['D0', 'D1', 'D2', 'D3']},\n",
        "                       index=[0, 1, 2, 3])"
      ],
      "execution_count": 3,
      "outputs": []
    },
    {
      "cell_type": "code",
      "metadata": {
        "id": "Y1bmHSeW7RQ-"
      },
      "source": [
        "import pandas as pd"
      ],
      "execution_count": 2,
      "outputs": []
    },
    {
      "cell_type": "code",
      "metadata": {
        "id": "duHSe-NI7Ypc"
      },
      "source": [
        "df2 = pd.DataFrame({'A':['A5','A6','A7','A8'],\"B\":['B5','B6','B7','B8'],'C': ['C5', 'C6', 'C7', 'C8'],'D': ['D5', 'D6', 'D7', 'D8']},index=[4,5,6,7])"
      ],
      "execution_count": 17,
      "outputs": []
    },
    {
      "cell_type": "code",
      "metadata": {
        "id": "3OvmqpP--pUL"
      },
      "source": [
        "frames = [df1, df2]"
      ],
      "execution_count": 18,
      "outputs": []
    },
    {
      "cell_type": "code",
      "metadata": {
        "id": "8JSB17N1-1rf"
      },
      "source": [
        "result = pd.concat(frames,join='inner')"
      ],
      "execution_count": 23,
      "outputs": []
    },
    {
      "cell_type": "code",
      "metadata": {
        "colab": {
          "base_uri": "https://localhost:8080/"
        },
        "id": "sJabwBym_DfV",
        "outputId": "63f53a73-281d-4d42-f70d-ee0fc887b25f"
      },
      "source": [
        "print(result)"
      ],
      "execution_count": 24,
      "outputs": [
        {
          "output_type": "stream",
          "name": "stdout",
          "text": [
            "    A   B   C   D\n",
            "0  A0  B0  C0  D0\n",
            "1  A1  B1  C1  D1\n",
            "2  A2  B2  C2  D2\n",
            "3  A3  B3  C3  D3\n",
            "4  A5  B5  C5  D5\n",
            "5  A6  B6  C6  D6\n",
            "6  A7  B7  C7  D7\n",
            "7  A8  B8  C8  D8\n"
          ]
        }
      ]
    },
    {
      "cell_type": "code",
      "metadata": {
        "id": "9mGkb5xx_GKo"
      },
      "source": [
        "df1 = pd.DataFrame([[1,2,3,4], [6,7,8,9]], columns=['D', 'B', 'E', 'A'], index=[1,2])\n",
        "df2 = pd.DataFrame([[10,20,30,40], [60,70,80,90], [600,700,800,900]], columns=['A', 'B', 'C', 'D'], index=[2,3,4])"
      ],
      "execution_count": 25,
      "outputs": []
    },
    {
      "cell_type": "code",
      "metadata": {
        "colab": {
          "base_uri": "https://localhost:8080/",
          "height": 108
        },
        "id": "ZRR2anYSJS_A",
        "outputId": "325eaaf2-4b5e-4256-fdf5-f5f3771eb095"
      },
      "source": [
        "df1"
      ],
      "execution_count": 26,
      "outputs": [
        {
          "output_type": "execute_result",
          "data": {
            "text/html": [
              "<div>\n",
              "<style scoped>\n",
              "    .dataframe tbody tr th:only-of-type {\n",
              "        vertical-align: middle;\n",
              "    }\n",
              "\n",
              "    .dataframe tbody tr th {\n",
              "        vertical-align: top;\n",
              "    }\n",
              "\n",
              "    .dataframe thead th {\n",
              "        text-align: right;\n",
              "    }\n",
              "</style>\n",
              "<table border=\"1\" class=\"dataframe\">\n",
              "  <thead>\n",
              "    <tr style=\"text-align: right;\">\n",
              "      <th></th>\n",
              "      <th>D</th>\n",
              "      <th>B</th>\n",
              "      <th>E</th>\n",
              "      <th>A</th>\n",
              "    </tr>\n",
              "  </thead>\n",
              "  <tbody>\n",
              "    <tr>\n",
              "      <th>1</th>\n",
              "      <td>1</td>\n",
              "      <td>2</td>\n",
              "      <td>3</td>\n",
              "      <td>4</td>\n",
              "    </tr>\n",
              "    <tr>\n",
              "      <th>2</th>\n",
              "      <td>6</td>\n",
              "      <td>7</td>\n",
              "      <td>8</td>\n",
              "      <td>9</td>\n",
              "    </tr>\n",
              "  </tbody>\n",
              "</table>\n",
              "</div>"
            ],
            "text/plain": [
              "   D  B  E  A\n",
              "1  1  2  3  4\n",
              "2  6  7  8  9"
            ]
          },
          "metadata": {},
          "execution_count": 26
        }
      ]
    },
    {
      "cell_type": "code",
      "metadata": {
        "colab": {
          "base_uri": "https://localhost:8080/",
          "height": 138
        },
        "id": "r1vL1kyPJV4H",
        "outputId": "f741c210-659a-4752-b4e1-00163f342822"
      },
      "source": [
        "df2"
      ],
      "execution_count": 27,
      "outputs": [
        {
          "output_type": "execute_result",
          "data": {
            "text/html": [
              "<div>\n",
              "<style scoped>\n",
              "    .dataframe tbody tr th:only-of-type {\n",
              "        vertical-align: middle;\n",
              "    }\n",
              "\n",
              "    .dataframe tbody tr th {\n",
              "        vertical-align: top;\n",
              "    }\n",
              "\n",
              "    .dataframe thead th {\n",
              "        text-align: right;\n",
              "    }\n",
              "</style>\n",
              "<table border=\"1\" class=\"dataframe\">\n",
              "  <thead>\n",
              "    <tr style=\"text-align: right;\">\n",
              "      <th></th>\n",
              "      <th>A</th>\n",
              "      <th>B</th>\n",
              "      <th>C</th>\n",
              "      <th>D</th>\n",
              "    </tr>\n",
              "  </thead>\n",
              "  <tbody>\n",
              "    <tr>\n",
              "      <th>2</th>\n",
              "      <td>10</td>\n",
              "      <td>20</td>\n",
              "      <td>30</td>\n",
              "      <td>40</td>\n",
              "    </tr>\n",
              "    <tr>\n",
              "      <th>3</th>\n",
              "      <td>60</td>\n",
              "      <td>70</td>\n",
              "      <td>80</td>\n",
              "      <td>90</td>\n",
              "    </tr>\n",
              "    <tr>\n",
              "      <th>4</th>\n",
              "      <td>600</td>\n",
              "      <td>700</td>\n",
              "      <td>800</td>\n",
              "      <td>900</td>\n",
              "    </tr>\n",
              "  </tbody>\n",
              "</table>\n",
              "</div>"
            ],
            "text/plain": [
              "     A    B    C    D\n",
              "2   10   20   30   40\n",
              "3   60   70   80   90\n",
              "4  600  700  800  900"
            ]
          },
          "metadata": {},
          "execution_count": 27
        }
      ]
    },
    {
      "cell_type": "code",
      "metadata": {
        "colab": {
          "base_uri": "https://localhost:8080/"
        },
        "id": "PXN6Fj7AJXPL",
        "outputId": "f8cb0a9a-9dec-40ec-da87-abb31f0b1f7b"
      },
      "source": [
        "a1, a2 = df1.align(df2, join='outer', axis=0)\n",
        "print(a1)\n",
        "print(a2)"
      ],
      "execution_count": 30,
      "outputs": [
        {
          "output_type": "stream",
          "name": "stdout",
          "text": [
            "     D    B    E    A\n",
            "1  1.0  2.0  3.0  4.0\n",
            "2  6.0  7.0  8.0  9.0\n",
            "3  NaN  NaN  NaN  NaN\n",
            "4  NaN  NaN  NaN  NaN\n",
            "       A      B      C      D\n",
            "1    NaN    NaN    NaN    NaN\n",
            "2   10.0   20.0   30.0   40.0\n",
            "3   60.0   70.0   80.0   90.0\n",
            "4  600.0  700.0  800.0  900.0\n"
          ]
        }
      ]
    },
    {
      "cell_type": "code",
      "metadata": {
        "colab": {
          "base_uri": "https://localhost:8080/"
        },
        "id": "a9nJ4lhzJyCP",
        "outputId": "25994b8d-45c9-40f1-ccb6-99c7bf501e1b"
      },
      "source": [
        "a4,a5 = df1.align(df2,join=\"inner\",axis=1)\n",
        "print(a4)\n",
        "print(a5)"
      ],
      "execution_count": 29,
      "outputs": [
        {
          "output_type": "stream",
          "name": "stdout",
          "text": [
            "   D  B  A\n",
            "1  1  2  4\n",
            "2  6  7  9\n",
            "     D    B    A\n",
            "2   40   20   10\n",
            "3   90   70   60\n",
            "4  900  700  600\n"
          ]
        }
      ]
    },
    {
      "cell_type": "code",
      "metadata": {
        "colab": {
          "base_uri": "https://localhost:8080/"
        },
        "id": "DdJ3hlIYKOGE",
        "outputId": "86bdeef6-1dc2-473c-abfc-e4babcc46037"
      },
      "source": [
        "a6, a7 = df2.align(df1, join='outer', axis=0)\n",
        "print(a6)\n",
        "print(a7)"
      ],
      "execution_count": 31,
      "outputs": [
        {
          "output_type": "stream",
          "name": "stdout",
          "text": [
            "       A      B      C      D\n",
            "1    NaN    NaN    NaN    NaN\n",
            "2   10.0   20.0   30.0   40.0\n",
            "3   60.0   70.0   80.0   90.0\n",
            "4  600.0  700.0  800.0  900.0\n",
            "     D    B    E    A\n",
            "1  1.0  2.0  3.0  4.0\n",
            "2  6.0  7.0  8.0  9.0\n",
            "3  NaN  NaN  NaN  NaN\n",
            "4  NaN  NaN  NaN  NaN\n"
          ]
        }
      ]
    },
    {
      "cell_type": "code",
      "metadata": {
        "id": "07MMYOIzLe_u"
      },
      "source": [
        "import numpy as np \n",
        "import matplotlib.pyplot as plt \n",
        "import pandas as pd\n"
      ],
      "execution_count": 32,
      "outputs": []
    },
    {
      "cell_type": "code",
      "metadata": {
        "id": "8KSQXN6YayTV"
      },
      "source": [
        "df1 = pd.read_csv('/content/restaurant-1-orders.csv')"
      ],
      "execution_count": 33,
      "outputs": []
    },
    {
      "cell_type": "code",
      "metadata": {
        "colab": {
          "base_uri": "https://localhost:8080/",
          "height": 408
        },
        "id": "vGCQXL_EgKiK",
        "outputId": "82366092-b957-460e-cd87-36a7bc57feb1"
      },
      "source": [
        "df1"
      ],
      "execution_count": 34,
      "outputs": [
        {
          "output_type": "execute_result",
          "data": {
            "text/html": [
              "<div>\n",
              "<style scoped>\n",
              "    .dataframe tbody tr th:only-of-type {\n",
              "        vertical-align: middle;\n",
              "    }\n",
              "\n",
              "    .dataframe tbody tr th {\n",
              "        vertical-align: top;\n",
              "    }\n",
              "\n",
              "    .dataframe thead th {\n",
              "        text-align: right;\n",
              "    }\n",
              "</style>\n",
              "<table border=\"1\" class=\"dataframe\">\n",
              "  <thead>\n",
              "    <tr style=\"text-align: right;\">\n",
              "      <th></th>\n",
              "      <th>Order Number</th>\n",
              "      <th>Order Date</th>\n",
              "      <th>Item Name</th>\n",
              "      <th>Quantity</th>\n",
              "      <th>Product Price</th>\n",
              "      <th>Total products</th>\n",
              "    </tr>\n",
              "  </thead>\n",
              "  <tbody>\n",
              "    <tr>\n",
              "      <th>0</th>\n",
              "      <td>16118</td>\n",
              "      <td>03/08/2019 20:25</td>\n",
              "      <td>Plain Papadum</td>\n",
              "      <td>2</td>\n",
              "      <td>0.80</td>\n",
              "      <td>6</td>\n",
              "    </tr>\n",
              "    <tr>\n",
              "      <th>1</th>\n",
              "      <td>16118</td>\n",
              "      <td>03/08/2019 20:25</td>\n",
              "      <td>King Prawn Balti</td>\n",
              "      <td>1</td>\n",
              "      <td>12.95</td>\n",
              "      <td>6</td>\n",
              "    </tr>\n",
              "    <tr>\n",
              "      <th>2</th>\n",
              "      <td>16118</td>\n",
              "      <td>03/08/2019 20:25</td>\n",
              "      <td>Garlic Naan</td>\n",
              "      <td>1</td>\n",
              "      <td>2.95</td>\n",
              "      <td>6</td>\n",
              "    </tr>\n",
              "    <tr>\n",
              "      <th>3</th>\n",
              "      <td>16118</td>\n",
              "      <td>03/08/2019 20:25</td>\n",
              "      <td>Mushroom Rice</td>\n",
              "      <td>1</td>\n",
              "      <td>3.95</td>\n",
              "      <td>6</td>\n",
              "    </tr>\n",
              "    <tr>\n",
              "      <th>4</th>\n",
              "      <td>16118</td>\n",
              "      <td>03/08/2019 20:25</td>\n",
              "      <td>Paneer Tikka Masala</td>\n",
              "      <td>1</td>\n",
              "      <td>8.95</td>\n",
              "      <td>6</td>\n",
              "    </tr>\n",
              "    <tr>\n",
              "      <th>...</th>\n",
              "      <td>...</td>\n",
              "      <td>...</td>\n",
              "      <td>...</td>\n",
              "      <td>...</td>\n",
              "      <td>...</td>\n",
              "      <td>...</td>\n",
              "    </tr>\n",
              "    <tr>\n",
              "      <th>74813</th>\n",
              "      <td>2518</td>\n",
              "      <td>18/05/2016 18:53</td>\n",
              "      <td>House Red wine 75cl</td>\n",
              "      <td>2</td>\n",
              "      <td>17.95</td>\n",
              "      <td>7</td>\n",
              "    </tr>\n",
              "    <tr>\n",
              "      <th>74814</th>\n",
              "      <td>2503</td>\n",
              "      <td>14/05/2016 19:28</td>\n",
              "      <td>House Red wine 75cl</td>\n",
              "      <td>2</td>\n",
              "      <td>17.95</td>\n",
              "      <td>6</td>\n",
              "    </tr>\n",
              "    <tr>\n",
              "      <th>74815</th>\n",
              "      <td>2467</td>\n",
              "      <td>10/05/2016 13:18</td>\n",
              "      <td>House Red wine 75cl</td>\n",
              "      <td>2</td>\n",
              "      <td>17.95</td>\n",
              "      <td>9</td>\n",
              "    </tr>\n",
              "    <tr>\n",
              "      <th>74816</th>\n",
              "      <td>2249</td>\n",
              "      <td>07/04/2016 19:04</td>\n",
              "      <td>House white wine 75cl</td>\n",
              "      <td>1</td>\n",
              "      <td>17.95</td>\n",
              "      <td>6</td>\n",
              "    </tr>\n",
              "    <tr>\n",
              "      <th>74817</th>\n",
              "      <td>1403</td>\n",
              "      <td>02/10/2015 17:29</td>\n",
              "      <td>House Red wine 75cl</td>\n",
              "      <td>1</td>\n",
              "      <td>17.95</td>\n",
              "      <td>9</td>\n",
              "    </tr>\n",
              "  </tbody>\n",
              "</table>\n",
              "<p>74818 rows × 6 columns</p>\n",
              "</div>"
            ],
            "text/plain": [
              "       Order Number        Order Date  ... Product Price  Total products\n",
              "0             16118  03/08/2019 20:25  ...          0.80               6\n",
              "1             16118  03/08/2019 20:25  ...         12.95               6\n",
              "2             16118  03/08/2019 20:25  ...          2.95               6\n",
              "3             16118  03/08/2019 20:25  ...          3.95               6\n",
              "4             16118  03/08/2019 20:25  ...          8.95               6\n",
              "...             ...               ...  ...           ...             ...\n",
              "74813          2518  18/05/2016 18:53  ...         17.95               7\n",
              "74814          2503  14/05/2016 19:28  ...         17.95               6\n",
              "74815          2467  10/05/2016 13:18  ...         17.95               9\n",
              "74816          2249  07/04/2016 19:04  ...         17.95               6\n",
              "74817          1403  02/10/2015 17:29  ...         17.95               9\n",
              "\n",
              "[74818 rows x 6 columns]"
            ]
          },
          "metadata": {},
          "execution_count": 34
        }
      ]
    },
    {
      "cell_type": "code",
      "metadata": {
        "colab": {
          "base_uri": "https://localhost:8080/"
        },
        "id": "rzPM4t2VgMSu",
        "outputId": "71025c38-8e41-4c13-90ea-5c0480f853cb"
      },
      "source": [
        "df1.info()"
      ],
      "execution_count": 36,
      "outputs": [
        {
          "output_type": "stream",
          "name": "stdout",
          "text": [
            "<class 'pandas.core.frame.DataFrame'>\n",
            "RangeIndex: 74818 entries, 0 to 74817\n",
            "Data columns (total 6 columns):\n",
            " #   Column          Non-Null Count  Dtype  \n",
            "---  ------          --------------  -----  \n",
            " 0   Order Number    74818 non-null  int64  \n",
            " 1   Order Date      74818 non-null  object \n",
            " 2   Item Name       74818 non-null  object \n",
            " 3   Quantity        74818 non-null  int64  \n",
            " 4   Product Price   74818 non-null  float64\n",
            " 5   Total products  74818 non-null  int64  \n",
            "dtypes: float64(1), int64(3), object(2)\n",
            "memory usage: 3.4+ MB\n"
          ]
        }
      ]
    },
    {
      "cell_type": "markdown",
      "metadata": {
        "id": "mT2Qc0obhlqq"
      },
      "source": [
        "# By default the date column is read as an object data type when loading data from a CSV file.\n",
        " - To read the date column correctly, we can use the argument parse_dates to specify a list of date columns \n",
        " "
      ]
    },
    {
      "cell_type": "code",
      "metadata": {
        "colab": {
          "base_uri": "https://localhost:8080/"
        },
        "id": "AbKko8KDgTfL",
        "outputId": "879b6a21-3d16-4c07-ec23-d3b0685e7529"
      },
      "source": [
        "df2 = pd.read_csv('/content/restaurant-1-orders.csv', parse_dates=['Order Date'])\n",
        "df2.info()"
      ],
      "execution_count": 39,
      "outputs": [
        {
          "output_type": "stream",
          "name": "stdout",
          "text": [
            "<class 'pandas.core.frame.DataFrame'>\n",
            "RangeIndex: 74818 entries, 0 to 74817\n",
            "Data columns (total 6 columns):\n",
            " #   Column          Non-Null Count  Dtype         \n",
            "---  ------          --------------  -----         \n",
            " 0   Order Number    74818 non-null  int64         \n",
            " 1   Order Date      74818 non-null  datetime64[ns]\n",
            " 2   Item Name       74818 non-null  object        \n",
            " 3   Quantity        74818 non-null  int64         \n",
            " 4   Product Price   74818 non-null  float64       \n",
            " 5   Total products  74818 non-null  int64         \n",
            "dtypes: datetime64[ns](1), float64(1), int64(3), object(1)\n",
            "memory usage: 3.4+ MB\n"
          ]
        }
      ]
    },
    {
      "cell_type": "code",
      "metadata": {
        "colab": {
          "base_uri": "https://localhost:8080/",
          "height": 200
        },
        "id": "a1Ak9B4Eglgv",
        "outputId": "b6eb26c9-02ef-4c4d-9bbd-a2ade1cecb09"
      },
      "source": [
        "df2.head()"
      ],
      "execution_count": 40,
      "outputs": [
        {
          "output_type": "execute_result",
          "data": {
            "text/html": [
              "<div>\n",
              "<style scoped>\n",
              "    .dataframe tbody tr th:only-of-type {\n",
              "        vertical-align: middle;\n",
              "    }\n",
              "\n",
              "    .dataframe tbody tr th {\n",
              "        vertical-align: top;\n",
              "    }\n",
              "\n",
              "    .dataframe thead th {\n",
              "        text-align: right;\n",
              "    }\n",
              "</style>\n",
              "<table border=\"1\" class=\"dataframe\">\n",
              "  <thead>\n",
              "    <tr style=\"text-align: right;\">\n",
              "      <th></th>\n",
              "      <th>Order Number</th>\n",
              "      <th>Order Date</th>\n",
              "      <th>Item Name</th>\n",
              "      <th>Quantity</th>\n",
              "      <th>Product Price</th>\n",
              "      <th>Total products</th>\n",
              "    </tr>\n",
              "  </thead>\n",
              "  <tbody>\n",
              "    <tr>\n",
              "      <th>0</th>\n",
              "      <td>16118</td>\n",
              "      <td>2019-03-08 20:25:00</td>\n",
              "      <td>Plain Papadum</td>\n",
              "      <td>2</td>\n",
              "      <td>0.80</td>\n",
              "      <td>6</td>\n",
              "    </tr>\n",
              "    <tr>\n",
              "      <th>1</th>\n",
              "      <td>16118</td>\n",
              "      <td>2019-03-08 20:25:00</td>\n",
              "      <td>King Prawn Balti</td>\n",
              "      <td>1</td>\n",
              "      <td>12.95</td>\n",
              "      <td>6</td>\n",
              "    </tr>\n",
              "    <tr>\n",
              "      <th>2</th>\n",
              "      <td>16118</td>\n",
              "      <td>2019-03-08 20:25:00</td>\n",
              "      <td>Garlic Naan</td>\n",
              "      <td>1</td>\n",
              "      <td>2.95</td>\n",
              "      <td>6</td>\n",
              "    </tr>\n",
              "    <tr>\n",
              "      <th>3</th>\n",
              "      <td>16118</td>\n",
              "      <td>2019-03-08 20:25:00</td>\n",
              "      <td>Mushroom Rice</td>\n",
              "      <td>1</td>\n",
              "      <td>3.95</td>\n",
              "      <td>6</td>\n",
              "    </tr>\n",
              "    <tr>\n",
              "      <th>4</th>\n",
              "      <td>16118</td>\n",
              "      <td>2019-03-08 20:25:00</td>\n",
              "      <td>Paneer Tikka Masala</td>\n",
              "      <td>1</td>\n",
              "      <td>8.95</td>\n",
              "      <td>6</td>\n",
              "    </tr>\n",
              "  </tbody>\n",
              "</table>\n",
              "</div>"
            ],
            "text/plain": [
              "   Order Number          Order Date  ... Product Price  Total products\n",
              "0         16118 2019-03-08 20:25:00  ...          0.80               6\n",
              "1         16118 2019-03-08 20:25:00  ...         12.95               6\n",
              "2         16118 2019-03-08 20:25:00  ...          2.95               6\n",
              "3         16118 2019-03-08 20:25:00  ...          3.95               6\n",
              "4         16118 2019-03-08 20:25:00  ...          8.95               6\n",
              "\n",
              "[5 rows x 6 columns]"
            ]
          },
          "metadata": {},
          "execution_count": 40
        }
      ]
    },
    {
      "cell_type": "code",
      "metadata": {
        "colab": {
          "base_uri": "https://localhost:8080/",
          "height": 200
        },
        "id": "B6HrMeyWhI0C",
        "outputId": "6ddf388e-7311-442a-cc12-1a3a4de9939a"
      },
      "source": [
        "df1.head()"
      ],
      "execution_count": 41,
      "outputs": [
        {
          "output_type": "execute_result",
          "data": {
            "text/html": [
              "<div>\n",
              "<style scoped>\n",
              "    .dataframe tbody tr th:only-of-type {\n",
              "        vertical-align: middle;\n",
              "    }\n",
              "\n",
              "    .dataframe tbody tr th {\n",
              "        vertical-align: top;\n",
              "    }\n",
              "\n",
              "    .dataframe thead th {\n",
              "        text-align: right;\n",
              "    }\n",
              "</style>\n",
              "<table border=\"1\" class=\"dataframe\">\n",
              "  <thead>\n",
              "    <tr style=\"text-align: right;\">\n",
              "      <th></th>\n",
              "      <th>Order Number</th>\n",
              "      <th>Order Date</th>\n",
              "      <th>Item Name</th>\n",
              "      <th>Quantity</th>\n",
              "      <th>Product Price</th>\n",
              "      <th>Total products</th>\n",
              "    </tr>\n",
              "  </thead>\n",
              "  <tbody>\n",
              "    <tr>\n",
              "      <th>0</th>\n",
              "      <td>16118</td>\n",
              "      <td>03/08/2019 20:25</td>\n",
              "      <td>Plain Papadum</td>\n",
              "      <td>2</td>\n",
              "      <td>0.80</td>\n",
              "      <td>6</td>\n",
              "    </tr>\n",
              "    <tr>\n",
              "      <th>1</th>\n",
              "      <td>16118</td>\n",
              "      <td>03/08/2019 20:25</td>\n",
              "      <td>King Prawn Balti</td>\n",
              "      <td>1</td>\n",
              "      <td>12.95</td>\n",
              "      <td>6</td>\n",
              "    </tr>\n",
              "    <tr>\n",
              "      <th>2</th>\n",
              "      <td>16118</td>\n",
              "      <td>03/08/2019 20:25</td>\n",
              "      <td>Garlic Naan</td>\n",
              "      <td>1</td>\n",
              "      <td>2.95</td>\n",
              "      <td>6</td>\n",
              "    </tr>\n",
              "    <tr>\n",
              "      <th>3</th>\n",
              "      <td>16118</td>\n",
              "      <td>03/08/2019 20:25</td>\n",
              "      <td>Mushroom Rice</td>\n",
              "      <td>1</td>\n",
              "      <td>3.95</td>\n",
              "      <td>6</td>\n",
              "    </tr>\n",
              "    <tr>\n",
              "      <th>4</th>\n",
              "      <td>16118</td>\n",
              "      <td>03/08/2019 20:25</td>\n",
              "      <td>Paneer Tikka Masala</td>\n",
              "      <td>1</td>\n",
              "      <td>8.95</td>\n",
              "      <td>6</td>\n",
              "    </tr>\n",
              "  </tbody>\n",
              "</table>\n",
              "</div>"
            ],
            "text/plain": [
              "   Order Number        Order Date  ... Product Price  Total products\n",
              "0         16118  03/08/2019 20:25  ...          0.80               6\n",
              "1         16118  03/08/2019 20:25  ...         12.95               6\n",
              "2         16118  03/08/2019 20:25  ...          2.95               6\n",
              "3         16118  03/08/2019 20:25  ...          3.95               6\n",
              "4         16118  03/08/2019 20:25  ...          8.95               6\n",
              "\n",
              "[5 rows x 6 columns]"
            ]
          },
          "metadata": {},
          "execution_count": 41
        }
      ]
    },
    {
      "cell_type": "markdown",
      "metadata": {
        "id": "1jvlgbqeiNxZ"
      },
      "source": [
        "# Day first format (DD/MM, DD MM or, DD-MM) \n",
        "- By default, the argument parse_dates will read date data with month first (MM/DD, MM DD, or MM-DD) format, and this arrangement is relatively unique in the United State.\n",
        "- In most of the rest of the world, the day is written first (DD/MM, DD MM, or DD-MM). If you would like Pandas to consider day first instead of month, you can set the argument dayfirst to True"
      ]
    },
    {
      "cell_type": "code",
      "metadata": {
        "colab": {
          "base_uri": "https://localhost:8080/",
          "height": 408
        },
        "id": "sjjAG11UhMW2",
        "outputId": "f45926a3-99d8-42de-9131-5529f764dc6a"
      },
      "source": [
        "pd.read_csv('/content/restaurant-1-orders.csv', \n",
        "            parse_dates=['Order Date'], \n",
        "            dayfirst=True)"
      ],
      "execution_count": 42,
      "outputs": [
        {
          "output_type": "execute_result",
          "data": {
            "text/html": [
              "<div>\n",
              "<style scoped>\n",
              "    .dataframe tbody tr th:only-of-type {\n",
              "        vertical-align: middle;\n",
              "    }\n",
              "\n",
              "    .dataframe tbody tr th {\n",
              "        vertical-align: top;\n",
              "    }\n",
              "\n",
              "    .dataframe thead th {\n",
              "        text-align: right;\n",
              "    }\n",
              "</style>\n",
              "<table border=\"1\" class=\"dataframe\">\n",
              "  <thead>\n",
              "    <tr style=\"text-align: right;\">\n",
              "      <th></th>\n",
              "      <th>Order Number</th>\n",
              "      <th>Order Date</th>\n",
              "      <th>Item Name</th>\n",
              "      <th>Quantity</th>\n",
              "      <th>Product Price</th>\n",
              "      <th>Total products</th>\n",
              "    </tr>\n",
              "  </thead>\n",
              "  <tbody>\n",
              "    <tr>\n",
              "      <th>0</th>\n",
              "      <td>16118</td>\n",
              "      <td>2019-08-03 20:25:00</td>\n",
              "      <td>Plain Papadum</td>\n",
              "      <td>2</td>\n",
              "      <td>0.80</td>\n",
              "      <td>6</td>\n",
              "    </tr>\n",
              "    <tr>\n",
              "      <th>1</th>\n",
              "      <td>16118</td>\n",
              "      <td>2019-08-03 20:25:00</td>\n",
              "      <td>King Prawn Balti</td>\n",
              "      <td>1</td>\n",
              "      <td>12.95</td>\n",
              "      <td>6</td>\n",
              "    </tr>\n",
              "    <tr>\n",
              "      <th>2</th>\n",
              "      <td>16118</td>\n",
              "      <td>2019-08-03 20:25:00</td>\n",
              "      <td>Garlic Naan</td>\n",
              "      <td>1</td>\n",
              "      <td>2.95</td>\n",
              "      <td>6</td>\n",
              "    </tr>\n",
              "    <tr>\n",
              "      <th>3</th>\n",
              "      <td>16118</td>\n",
              "      <td>2019-08-03 20:25:00</td>\n",
              "      <td>Mushroom Rice</td>\n",
              "      <td>1</td>\n",
              "      <td>3.95</td>\n",
              "      <td>6</td>\n",
              "    </tr>\n",
              "    <tr>\n",
              "      <th>4</th>\n",
              "      <td>16118</td>\n",
              "      <td>2019-08-03 20:25:00</td>\n",
              "      <td>Paneer Tikka Masala</td>\n",
              "      <td>1</td>\n",
              "      <td>8.95</td>\n",
              "      <td>6</td>\n",
              "    </tr>\n",
              "    <tr>\n",
              "      <th>...</th>\n",
              "      <td>...</td>\n",
              "      <td>...</td>\n",
              "      <td>...</td>\n",
              "      <td>...</td>\n",
              "      <td>...</td>\n",
              "      <td>...</td>\n",
              "    </tr>\n",
              "    <tr>\n",
              "      <th>74813</th>\n",
              "      <td>2518</td>\n",
              "      <td>2016-05-18 18:53:00</td>\n",
              "      <td>House Red wine 75cl</td>\n",
              "      <td>2</td>\n",
              "      <td>17.95</td>\n",
              "      <td>7</td>\n",
              "    </tr>\n",
              "    <tr>\n",
              "      <th>74814</th>\n",
              "      <td>2503</td>\n",
              "      <td>2016-05-14 19:28:00</td>\n",
              "      <td>House Red wine 75cl</td>\n",
              "      <td>2</td>\n",
              "      <td>17.95</td>\n",
              "      <td>6</td>\n",
              "    </tr>\n",
              "    <tr>\n",
              "      <th>74815</th>\n",
              "      <td>2467</td>\n",
              "      <td>2016-05-10 13:18:00</td>\n",
              "      <td>House Red wine 75cl</td>\n",
              "      <td>2</td>\n",
              "      <td>17.95</td>\n",
              "      <td>9</td>\n",
              "    </tr>\n",
              "    <tr>\n",
              "      <th>74816</th>\n",
              "      <td>2249</td>\n",
              "      <td>2016-04-07 19:04:00</td>\n",
              "      <td>House white wine 75cl</td>\n",
              "      <td>1</td>\n",
              "      <td>17.95</td>\n",
              "      <td>6</td>\n",
              "    </tr>\n",
              "    <tr>\n",
              "      <th>74817</th>\n",
              "      <td>1403</td>\n",
              "      <td>2015-10-02 17:29:00</td>\n",
              "      <td>House Red wine 75cl</td>\n",
              "      <td>1</td>\n",
              "      <td>17.95</td>\n",
              "      <td>9</td>\n",
              "    </tr>\n",
              "  </tbody>\n",
              "</table>\n",
              "<p>74818 rows × 6 columns</p>\n",
              "</div>"
            ],
            "text/plain": [
              "       Order Number          Order Date  ... Product Price  Total products\n",
              "0             16118 2019-08-03 20:25:00  ...          0.80               6\n",
              "1             16118 2019-08-03 20:25:00  ...         12.95               6\n",
              "2             16118 2019-08-03 20:25:00  ...          2.95               6\n",
              "3             16118 2019-08-03 20:25:00  ...          3.95               6\n",
              "4             16118 2019-08-03 20:25:00  ...          8.95               6\n",
              "...             ...                 ...  ...           ...             ...\n",
              "74813          2518 2016-05-18 18:53:00  ...         17.95               7\n",
              "74814          2503 2016-05-14 19:28:00  ...         17.95               6\n",
              "74815          2467 2016-05-10 13:18:00  ...         17.95               9\n",
              "74816          2249 2016-04-07 19:04:00  ...         17.95               6\n",
              "74817          1403 2015-10-02 17:29:00  ...         17.95               9\n",
              "\n",
              "[74818 rows x 6 columns]"
            ]
          },
          "metadata": {},
          "execution_count": 42
        }
      ]
    },
    {
      "cell_type": "markdown",
      "metadata": {
        "id": "2yLy1VkqjU3h"
      },
      "source": [
        "# 3. Combining multiple columns to a datetime\n",
        "- Sometimes date is split up into multiple columns, for example, year, month, and day\n"
      ]
    },
    {
      "cell_type": "code",
      "metadata": {
        "colab": {
          "base_uri": "https://localhost:8080/",
          "height": 170
        },
        "id": "UIHStvcPiyyX",
        "outputId": "5c696a04-0465-4266-879a-ba60b8842ccd"
      },
      "source": [
        "pd.read_csv('/content/data_2.csv')"
      ],
      "execution_count": 46,
      "outputs": [
        {
          "output_type": "execute_result",
          "data": {
            "text/html": [
              "<div>\n",
              "<style scoped>\n",
              "    .dataframe tbody tr th:only-of-type {\n",
              "        vertical-align: middle;\n",
              "    }\n",
              "\n",
              "    .dataframe tbody tr th {\n",
              "        vertical-align: top;\n",
              "    }\n",
              "\n",
              "    .dataframe thead th {\n",
              "        text-align: right;\n",
              "    }\n",
              "</style>\n",
              "<table border=\"1\" class=\"dataframe\">\n",
              "  <thead>\n",
              "    <tr style=\"text-align: right;\">\n",
              "      <th></th>\n",
              "      <th>year</th>\n",
              "      <th>month</th>\n",
              "      <th>day</th>\n",
              "      <th>product</th>\n",
              "      <th>price</th>\n",
              "    </tr>\n",
              "  </thead>\n",
              "  <tbody>\n",
              "    <tr>\n",
              "      <th>0</th>\n",
              "      <td>2019</td>\n",
              "      <td>1</td>\n",
              "      <td>1</td>\n",
              "      <td>A</td>\n",
              "      <td>10</td>\n",
              "    </tr>\n",
              "    <tr>\n",
              "      <th>1</th>\n",
              "      <td>2019</td>\n",
              "      <td>1</td>\n",
              "      <td>2</td>\n",
              "      <td>B</td>\n",
              "      <td>20</td>\n",
              "    </tr>\n",
              "    <tr>\n",
              "      <th>2</th>\n",
              "      <td>2019</td>\n",
              "      <td>1</td>\n",
              "      <td>3</td>\n",
              "      <td>C</td>\n",
              "      <td>30</td>\n",
              "    </tr>\n",
              "    <tr>\n",
              "      <th>3</th>\n",
              "      <td>2019</td>\n",
              "      <td>1</td>\n",
              "      <td>4</td>\n",
              "      <td>D</td>\n",
              "      <td>40</td>\n",
              "    </tr>\n",
              "  </tbody>\n",
              "</table>\n",
              "</div>"
            ],
            "text/plain": [
              "   year  month  day product  price\n",
              "0  2019      1    1       A     10\n",
              "1  2019      1    2       B     20\n",
              "2  2019      1    3       C     30\n",
              "3  2019      1    4       D     40"
            ]
          },
          "metadata": {},
          "execution_count": 46
        }
      ]
    },
    {
      "cell_type": "code",
      "metadata": {
        "colab": {
          "base_uri": "https://localhost:8080/",
          "height": 170
        },
        "id": "M902tr_4kFyf",
        "outputId": "d0edf5a4-d468-48f8-87a7-77f7addcf7c4"
      },
      "source": [
        "pd.read_csv('/content/data_2.csv',parse_dates=[['year','month','day']])"
      ],
      "execution_count": 48,
      "outputs": [
        {
          "output_type": "execute_result",
          "data": {
            "text/html": [
              "<div>\n",
              "<style scoped>\n",
              "    .dataframe tbody tr th:only-of-type {\n",
              "        vertical-align: middle;\n",
              "    }\n",
              "\n",
              "    .dataframe tbody tr th {\n",
              "        vertical-align: top;\n",
              "    }\n",
              "\n",
              "    .dataframe thead th {\n",
              "        text-align: right;\n",
              "    }\n",
              "</style>\n",
              "<table border=\"1\" class=\"dataframe\">\n",
              "  <thead>\n",
              "    <tr style=\"text-align: right;\">\n",
              "      <th></th>\n",
              "      <th>year_month_day</th>\n",
              "      <th>product</th>\n",
              "      <th>price</th>\n",
              "    </tr>\n",
              "  </thead>\n",
              "  <tbody>\n",
              "    <tr>\n",
              "      <th>0</th>\n",
              "      <td>2019-01-01</td>\n",
              "      <td>A</td>\n",
              "      <td>10</td>\n",
              "    </tr>\n",
              "    <tr>\n",
              "      <th>1</th>\n",
              "      <td>2019-01-02</td>\n",
              "      <td>B</td>\n",
              "      <td>20</td>\n",
              "    </tr>\n",
              "    <tr>\n",
              "      <th>2</th>\n",
              "      <td>2019-01-03</td>\n",
              "      <td>C</td>\n",
              "      <td>30</td>\n",
              "    </tr>\n",
              "    <tr>\n",
              "      <th>3</th>\n",
              "      <td>2019-01-04</td>\n",
              "      <td>D</td>\n",
              "      <td>40</td>\n",
              "    </tr>\n",
              "  </tbody>\n",
              "</table>\n",
              "</div>"
            ],
            "text/plain": [
              "  year_month_day product  price\n",
              "0     2019-01-01       A     10\n",
              "1     2019-01-02       B     20\n",
              "2     2019-01-03       C     30\n",
              "3     2019-01-04       D     40"
            ]
          },
          "metadata": {},
          "execution_count": 48
        }
      ]
    },
    {
      "cell_type": "markdown",
      "metadata": {
        "id": "VO2IxahxlOaw"
      },
      "source": [
        "# Notice that the column name year_month_day is generated automatically. To specify a custom column name, we can pass a dictionary instead.\n",
        "\n",
        "\n",
        " \n"
      ]
    },
    {
      "cell_type": "code",
      "metadata": {
        "colab": {
          "base_uri": "https://localhost:8080/",
          "height": 170
        },
        "id": "jB2YdXWyk96Q",
        "outputId": "41c58a3b-5cbc-4c53-f9ad-dc32ca41bc3f"
      },
      "source": [
        "pd.read_csv('/content/data_2.csv',parse_dates= {'date':['day','month','year']})"
      ],
      "execution_count": 49,
      "outputs": [
        {
          "output_type": "execute_result",
          "data": {
            "text/html": [
              "<div>\n",
              "<style scoped>\n",
              "    .dataframe tbody tr th:only-of-type {\n",
              "        vertical-align: middle;\n",
              "    }\n",
              "\n",
              "    .dataframe tbody tr th {\n",
              "        vertical-align: top;\n",
              "    }\n",
              "\n",
              "    .dataframe thead th {\n",
              "        text-align: right;\n",
              "    }\n",
              "</style>\n",
              "<table border=\"1\" class=\"dataframe\">\n",
              "  <thead>\n",
              "    <tr style=\"text-align: right;\">\n",
              "      <th></th>\n",
              "      <th>date</th>\n",
              "      <th>product</th>\n",
              "      <th>price</th>\n",
              "    </tr>\n",
              "  </thead>\n",
              "  <tbody>\n",
              "    <tr>\n",
              "      <th>0</th>\n",
              "      <td>2019-01-01</td>\n",
              "      <td>A</td>\n",
              "      <td>10</td>\n",
              "    </tr>\n",
              "    <tr>\n",
              "      <th>1</th>\n",
              "      <td>2019-02-01</td>\n",
              "      <td>B</td>\n",
              "      <td>20</td>\n",
              "    </tr>\n",
              "    <tr>\n",
              "      <th>2</th>\n",
              "      <td>2019-03-01</td>\n",
              "      <td>C</td>\n",
              "      <td>30</td>\n",
              "    </tr>\n",
              "    <tr>\n",
              "      <th>3</th>\n",
              "      <td>2019-04-01</td>\n",
              "      <td>D</td>\n",
              "      <td>40</td>\n",
              "    </tr>\n",
              "  </tbody>\n",
              "</table>\n",
              "</div>"
            ],
            "text/plain": [
              "        date product  price\n",
              "0 2019-01-01       A     10\n",
              "1 2019-02-01       B     20\n",
              "2 2019-03-01       C     30\n",
              "3 2019-04-01       D     40"
            ]
          },
          "metadata": {},
          "execution_count": 49
        }
      ]
    },
    {
      "cell_type": "markdown",
      "metadata": {
        "id": "x2QfojrBm17g"
      },
      "source": [
        "# pandas.DatetimeIndex.to_period \n"
      ]
    },
    {
      "cell_type": "code",
      "metadata": {
        "id": "2dmrPNC8l5JK"
      },
      "source": [
        "df3 = pd.DataFrame({\"y\":[1,2,3]},index=pd.to_datetime([\"2000-03-31 00:00:00\",\n",
        "                                        \"2000-05-31 00:00:00\",\n",
        "                                        \"2000-08-31 00:00:00\"]))"
      ],
      "execution_count": 50,
      "outputs": []
    },
    {
      "cell_type": "code",
      "metadata": {
        "colab": {
          "base_uri": "https://localhost:8080/",
          "height": 138
        },
        "id": "eKMOQpcxsDDx",
        "outputId": "08979ffe-1509-4b86-85c1-98c404dbe67f"
      },
      "source": [
        "df3"
      ],
      "execution_count": 51,
      "outputs": [
        {
          "output_type": "execute_result",
          "data": {
            "text/html": [
              "<div>\n",
              "<style scoped>\n",
              "    .dataframe tbody tr th:only-of-type {\n",
              "        vertical-align: middle;\n",
              "    }\n",
              "\n",
              "    .dataframe tbody tr th {\n",
              "        vertical-align: top;\n",
              "    }\n",
              "\n",
              "    .dataframe thead th {\n",
              "        text-align: right;\n",
              "    }\n",
              "</style>\n",
              "<table border=\"1\" class=\"dataframe\">\n",
              "  <thead>\n",
              "    <tr style=\"text-align: right;\">\n",
              "      <th></th>\n",
              "      <th>y</th>\n",
              "    </tr>\n",
              "  </thead>\n",
              "  <tbody>\n",
              "    <tr>\n",
              "      <th>2000-03-31</th>\n",
              "      <td>1</td>\n",
              "    </tr>\n",
              "    <tr>\n",
              "      <th>2000-05-31</th>\n",
              "      <td>2</td>\n",
              "    </tr>\n",
              "    <tr>\n",
              "      <th>2000-08-31</th>\n",
              "      <td>3</td>\n",
              "    </tr>\n",
              "  </tbody>\n",
              "</table>\n",
              "</div>"
            ],
            "text/plain": [
              "            y\n",
              "2000-03-31  1\n",
              "2000-05-31  2\n",
              "2000-08-31  3"
            ]
          },
          "metadata": {},
          "execution_count": 51
        }
      ]
    },
    {
      "cell_type": "code",
      "metadata": {
        "colab": {
          "base_uri": "https://localhost:8080/"
        },
        "id": "ql4B9i_LsERX",
        "outputId": "5be00ffb-43d2-40af-86f6-f377be7a7762"
      },
      "source": [
        "df3.index.to_period(\"M\")"
      ],
      "execution_count": 53,
      "outputs": [
        {
          "output_type": "execute_result",
          "data": {
            "text/plain": [
              "PeriodIndex(['2000-03', '2000-05', '2000-08'], dtype='period[M]', freq='M')"
            ]
          },
          "metadata": {},
          "execution_count": 53
        }
      ]
    },
    {
      "cell_type": "code",
      "metadata": {
        "colab": {
          "base_uri": "https://localhost:8080/"
        },
        "id": "--IkDctvsTLw",
        "outputId": "13781811-3f20-4d8b-d844-e577e2b104db"
      },
      "source": [
        "df3.index.to_period(\"M\")"
      ],
      "execution_count": 59,
      "outputs": [
        {
          "output_type": "execute_result",
          "data": {
            "text/plain": [
              "PeriodIndex(['2000-03', '2000-05', '2000-08'], dtype='period[M]', freq='M')"
            ]
          },
          "metadata": {},
          "execution_count": 59
        }
      ]
    },
    {
      "cell_type": "code",
      "metadata": {
        "colab": {
          "base_uri": "https://localhost:8080/",
          "height": 138
        },
        "id": "lxvvlZHas-OY",
        "outputId": "61ea7f24-034c-4240-b8bb-dedfb7b886c1"
      },
      "source": [
        "df3"
      ],
      "execution_count": 56,
      "outputs": [
        {
          "output_type": "execute_result",
          "data": {
            "text/html": [
              "<div>\n",
              "<style scoped>\n",
              "    .dataframe tbody tr th:only-of-type {\n",
              "        vertical-align: middle;\n",
              "    }\n",
              "\n",
              "    .dataframe tbody tr th {\n",
              "        vertical-align: top;\n",
              "    }\n",
              "\n",
              "    .dataframe thead th {\n",
              "        text-align: right;\n",
              "    }\n",
              "</style>\n",
              "<table border=\"1\" class=\"dataframe\">\n",
              "  <thead>\n",
              "    <tr style=\"text-align: right;\">\n",
              "      <th></th>\n",
              "      <th>y</th>\n",
              "    </tr>\n",
              "  </thead>\n",
              "  <tbody>\n",
              "    <tr>\n",
              "      <th>2000-03-31</th>\n",
              "      <td>1</td>\n",
              "    </tr>\n",
              "    <tr>\n",
              "      <th>2000-05-31</th>\n",
              "      <td>2</td>\n",
              "    </tr>\n",
              "    <tr>\n",
              "      <th>2000-08-31</th>\n",
              "      <td>3</td>\n",
              "    </tr>\n",
              "  </tbody>\n",
              "</table>\n",
              "</div>"
            ],
            "text/plain": [
              "            y\n",
              "2000-03-31  1\n",
              "2000-05-31  2\n",
              "2000-08-31  3"
            ]
          },
          "metadata": {},
          "execution_count": 56
        }
      ]
    },
    {
      "cell_type": "markdown",
      "metadata": {
        "id": "MpP2NUBlxVHW"
      },
      "source": [
        ""
      ]
    },
    {
      "cell_type": "code",
      "metadata": {
        "id": "klN0V3Bguyqc"
      },
      "source": [
        ""
      ],
      "execution_count": null,
      "outputs": []
    }
  ]
}