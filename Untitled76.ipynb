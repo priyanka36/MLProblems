{
  "nbformat": 4,
  "nbformat_minor": 0,
  "metadata": {
    "colab": {
      "name": "Untitled76.ipynb",
      "provenance": [],
      "authorship_tag": "ABX9TyOEBGee94tjUduNflPiVPxf",
      "include_colab_link": true
    },
    "kernelspec": {
      "name": "python3",
      "display_name": "Python 3"
    },
    "language_info": {
      "name": "python"
    }
  },
  "cells": [
    {
      "cell_type": "markdown",
      "metadata": {
        "id": "view-in-github",
        "colab_type": "text"
      },
      "source": [
        "<a href=\"https://colab.research.google.com/github/priyanka36/MLProblems/blob/main/Untitled76.ipynb\" target=\"_parent\"><img src=\"https://colab.research.google.com/assets/colab-badge.svg\" alt=\"Open In Colab\"/></a>"
      ]
    },
    {
      "cell_type": "code",
      "metadata": {
        "id": "zb4SdHqEIhAL"
      },
      "source": [
        "import numpy as np \n",
        "import pandas as pd \n",
        "import matplotlib.pyplot as plt \n"
      ],
      "execution_count": 9,
      "outputs": []
    },
    {
      "cell_type": "code",
      "metadata": {
        "id": "QOs56tzgoZ0W"
      },
      "source": [
        " df1 = pd.DataFrame({'lkey':['foo', 'bar', 'baz', 'foo'] , 'value':[1,2,3,4]})"
      ],
      "execution_count": 10,
      "outputs": []
    },
    {
      "cell_type": "code",
      "metadata": {
        "id": "dY3Tr7K8pn2s"
      },
      "source": [
        "df2 = pd.DataFrame({'rkey':['foo', 'bar', 'baz', 'foo'],'value':[5, 6, 7, 8]})"
      ],
      "execution_count": 11,
      "outputs": []
    },
    {
      "cell_type": "code",
      "metadata": {
        "colab": {
          "base_uri": "https://localhost:8080/",
          "height": 170
        },
        "id": "w4F-Ux18qDI3",
        "outputId": "0b9d80ec-96e2-41a0-fd27-590a838d1316"
      },
      "source": [
        "df1"
      ],
      "execution_count": 12,
      "outputs": [
        {
          "output_type": "execute_result",
          "data": {
            "text/html": [
              "<div>\n",
              "<style scoped>\n",
              "    .dataframe tbody tr th:only-of-type {\n",
              "        vertical-align: middle;\n",
              "    }\n",
              "\n",
              "    .dataframe tbody tr th {\n",
              "        vertical-align: top;\n",
              "    }\n",
              "\n",
              "    .dataframe thead th {\n",
              "        text-align: right;\n",
              "    }\n",
              "</style>\n",
              "<table border=\"1\" class=\"dataframe\">\n",
              "  <thead>\n",
              "    <tr style=\"text-align: right;\">\n",
              "      <th></th>\n",
              "      <th>lkey</th>\n",
              "      <th>value</th>\n",
              "    </tr>\n",
              "  </thead>\n",
              "  <tbody>\n",
              "    <tr>\n",
              "      <th>0</th>\n",
              "      <td>foo</td>\n",
              "      <td>1</td>\n",
              "    </tr>\n",
              "    <tr>\n",
              "      <th>1</th>\n",
              "      <td>bar</td>\n",
              "      <td>2</td>\n",
              "    </tr>\n",
              "    <tr>\n",
              "      <th>2</th>\n",
              "      <td>baz</td>\n",
              "      <td>3</td>\n",
              "    </tr>\n",
              "    <tr>\n",
              "      <th>3</th>\n",
              "      <td>foo</td>\n",
              "      <td>4</td>\n",
              "    </tr>\n",
              "  </tbody>\n",
              "</table>\n",
              "</div>"
            ],
            "text/plain": [
              "  lkey  value\n",
              "0  foo      1\n",
              "1  bar      2\n",
              "2  baz      3\n",
              "3  foo      4"
            ]
          },
          "metadata": {},
          "execution_count": 12
        }
      ]
    },
    {
      "cell_type": "code",
      "metadata": {
        "colab": {
          "base_uri": "https://localhost:8080/",
          "height": 170
        },
        "id": "sk0CEGb4qD4M",
        "outputId": "cec05630-67d6-410f-9d1a-b34175930b95"
      },
      "source": [
        "df2"
      ],
      "execution_count": 13,
      "outputs": [
        {
          "output_type": "execute_result",
          "data": {
            "text/html": [
              "<div>\n",
              "<style scoped>\n",
              "    .dataframe tbody tr th:only-of-type {\n",
              "        vertical-align: middle;\n",
              "    }\n",
              "\n",
              "    .dataframe tbody tr th {\n",
              "        vertical-align: top;\n",
              "    }\n",
              "\n",
              "    .dataframe thead th {\n",
              "        text-align: right;\n",
              "    }\n",
              "</style>\n",
              "<table border=\"1\" class=\"dataframe\">\n",
              "  <thead>\n",
              "    <tr style=\"text-align: right;\">\n",
              "      <th></th>\n",
              "      <th>rkey</th>\n",
              "      <th>value</th>\n",
              "    </tr>\n",
              "  </thead>\n",
              "  <tbody>\n",
              "    <tr>\n",
              "      <th>0</th>\n",
              "      <td>foo</td>\n",
              "      <td>5</td>\n",
              "    </tr>\n",
              "    <tr>\n",
              "      <th>1</th>\n",
              "      <td>bar</td>\n",
              "      <td>6</td>\n",
              "    </tr>\n",
              "    <tr>\n",
              "      <th>2</th>\n",
              "      <td>baz</td>\n",
              "      <td>7</td>\n",
              "    </tr>\n",
              "    <tr>\n",
              "      <th>3</th>\n",
              "      <td>foo</td>\n",
              "      <td>8</td>\n",
              "    </tr>\n",
              "  </tbody>\n",
              "</table>\n",
              "</div>"
            ],
            "text/plain": [
              "  rkey  value\n",
              "0  foo      5\n",
              "1  bar      6\n",
              "2  baz      7\n",
              "3  foo      8"
            ]
          },
          "metadata": {},
          "execution_count": 13
        }
      ]
    },
    {
      "cell_type": "code",
      "metadata": {
        "colab": {
          "base_uri": "https://localhost:8080/",
          "height": 230
        },
        "id": "uT3qONJbqEnJ",
        "outputId": "4b26d9a9-04bf-40b0-9115-a12ad8988378"
      },
      "source": [
        "df1.merge(df2,left_on=\"lkey\",right_on=\"rkey\")"
      ],
      "execution_count": 16,
      "outputs": [
        {
          "output_type": "execute_result",
          "data": {
            "text/html": [
              "<div>\n",
              "<style scoped>\n",
              "    .dataframe tbody tr th:only-of-type {\n",
              "        vertical-align: middle;\n",
              "    }\n",
              "\n",
              "    .dataframe tbody tr th {\n",
              "        vertical-align: top;\n",
              "    }\n",
              "\n",
              "    .dataframe thead th {\n",
              "        text-align: right;\n",
              "    }\n",
              "</style>\n",
              "<table border=\"1\" class=\"dataframe\">\n",
              "  <thead>\n",
              "    <tr style=\"text-align: right;\">\n",
              "      <th></th>\n",
              "      <th>lkey</th>\n",
              "      <th>value_x</th>\n",
              "      <th>rkey</th>\n",
              "      <th>value_y</th>\n",
              "    </tr>\n",
              "  </thead>\n",
              "  <tbody>\n",
              "    <tr>\n",
              "      <th>0</th>\n",
              "      <td>foo</td>\n",
              "      <td>1</td>\n",
              "      <td>foo</td>\n",
              "      <td>5</td>\n",
              "    </tr>\n",
              "    <tr>\n",
              "      <th>1</th>\n",
              "      <td>foo</td>\n",
              "      <td>1</td>\n",
              "      <td>foo</td>\n",
              "      <td>8</td>\n",
              "    </tr>\n",
              "    <tr>\n",
              "      <th>2</th>\n",
              "      <td>foo</td>\n",
              "      <td>4</td>\n",
              "      <td>foo</td>\n",
              "      <td>5</td>\n",
              "    </tr>\n",
              "    <tr>\n",
              "      <th>3</th>\n",
              "      <td>foo</td>\n",
              "      <td>4</td>\n",
              "      <td>foo</td>\n",
              "      <td>8</td>\n",
              "    </tr>\n",
              "    <tr>\n",
              "      <th>4</th>\n",
              "      <td>bar</td>\n",
              "      <td>2</td>\n",
              "      <td>bar</td>\n",
              "      <td>6</td>\n",
              "    </tr>\n",
              "    <tr>\n",
              "      <th>5</th>\n",
              "      <td>baz</td>\n",
              "      <td>3</td>\n",
              "      <td>baz</td>\n",
              "      <td>7</td>\n",
              "    </tr>\n",
              "  </tbody>\n",
              "</table>\n",
              "</div>"
            ],
            "text/plain": [
              "  lkey  value_x rkey  value_y\n",
              "0  foo        1  foo        5\n",
              "1  foo        1  foo        8\n",
              "2  foo        4  foo        5\n",
              "3  foo        4  foo        8\n",
              "4  bar        2  bar        6\n",
              "5  baz        3  baz        7"
            ]
          },
          "metadata": {},
          "execution_count": 16
        }
      ]
    },
    {
      "cell_type": "code",
      "metadata": {
        "colab": {
          "base_uri": "https://localhost:8080/",
          "height": 230
        },
        "id": "dJT-6ctoqaDP",
        "outputId": "7f016130-9c52-48dc-dce5-dc20389f1e65"
      },
      "source": [
        "df2.merge(df1,left_on=\"rkey\",right_on=\"lkey\")"
      ],
      "execution_count": 19,
      "outputs": [
        {
          "output_type": "execute_result",
          "data": {
            "text/html": [
              "<div>\n",
              "<style scoped>\n",
              "    .dataframe tbody tr th:only-of-type {\n",
              "        vertical-align: middle;\n",
              "    }\n",
              "\n",
              "    .dataframe tbody tr th {\n",
              "        vertical-align: top;\n",
              "    }\n",
              "\n",
              "    .dataframe thead th {\n",
              "        text-align: right;\n",
              "    }\n",
              "</style>\n",
              "<table border=\"1\" class=\"dataframe\">\n",
              "  <thead>\n",
              "    <tr style=\"text-align: right;\">\n",
              "      <th></th>\n",
              "      <th>rkey</th>\n",
              "      <th>value_x</th>\n",
              "      <th>lkey</th>\n",
              "      <th>value_y</th>\n",
              "    </tr>\n",
              "  </thead>\n",
              "  <tbody>\n",
              "    <tr>\n",
              "      <th>0</th>\n",
              "      <td>foo</td>\n",
              "      <td>5</td>\n",
              "      <td>foo</td>\n",
              "      <td>1</td>\n",
              "    </tr>\n",
              "    <tr>\n",
              "      <th>1</th>\n",
              "      <td>foo</td>\n",
              "      <td>5</td>\n",
              "      <td>foo</td>\n",
              "      <td>4</td>\n",
              "    </tr>\n",
              "    <tr>\n",
              "      <th>2</th>\n",
              "      <td>foo</td>\n",
              "      <td>8</td>\n",
              "      <td>foo</td>\n",
              "      <td>1</td>\n",
              "    </tr>\n",
              "    <tr>\n",
              "      <th>3</th>\n",
              "      <td>foo</td>\n",
              "      <td>8</td>\n",
              "      <td>foo</td>\n",
              "      <td>4</td>\n",
              "    </tr>\n",
              "    <tr>\n",
              "      <th>4</th>\n",
              "      <td>bar</td>\n",
              "      <td>6</td>\n",
              "      <td>bar</td>\n",
              "      <td>2</td>\n",
              "    </tr>\n",
              "    <tr>\n",
              "      <th>5</th>\n",
              "      <td>baz</td>\n",
              "      <td>7</td>\n",
              "      <td>baz</td>\n",
              "      <td>3</td>\n",
              "    </tr>\n",
              "  </tbody>\n",
              "</table>\n",
              "</div>"
            ],
            "text/plain": [
              "  rkey  value_x lkey  value_y\n",
              "0  foo        5  foo        1\n",
              "1  foo        5  foo        4\n",
              "2  foo        8  foo        1\n",
              "3  foo        8  foo        4\n",
              "4  bar        6  bar        2\n",
              "5  baz        7  baz        3"
            ]
          },
          "metadata": {},
          "execution_count": 19
        }
      ]
    },
    {
      "cell_type": "code",
      "metadata": {
        "colab": {
          "base_uri": "https://localhost:8080/",
          "height": 48
        },
        "id": "W4uKgsjHqgPQ",
        "outputId": "0f1cf288-59ee-44e4-a968-cd4a0c68a21d"
      },
      "source": [
        "df1.merge(df2,how=\"inner\")"
      ],
      "execution_count": 22,
      "outputs": [
        {
          "output_type": "execute_result",
          "data": {
            "text/html": [
              "<div>\n",
              "<style scoped>\n",
              "    .dataframe tbody tr th:only-of-type {\n",
              "        vertical-align: middle;\n",
              "    }\n",
              "\n",
              "    .dataframe tbody tr th {\n",
              "        vertical-align: top;\n",
              "    }\n",
              "\n",
              "    .dataframe thead th {\n",
              "        text-align: right;\n",
              "    }\n",
              "</style>\n",
              "<table border=\"1\" class=\"dataframe\">\n",
              "  <thead>\n",
              "    <tr style=\"text-align: right;\">\n",
              "      <th></th>\n",
              "      <th>lkey</th>\n",
              "      <th>value</th>\n",
              "      <th>rkey</th>\n",
              "    </tr>\n",
              "  </thead>\n",
              "  <tbody>\n",
              "  </tbody>\n",
              "</table>\n",
              "</div>"
            ],
            "text/plain": [
              "Empty DataFrame\n",
              "Columns: [lkey, value, rkey]\n",
              "Index: []"
            ]
          },
          "metadata": {},
          "execution_count": 22
        }
      ]
    },
    {
      "cell_type": "code",
      "metadata": {
        "id": "RDPtGZcetipe"
      },
      "source": [
        "df1 = pd.DataFrame({'a': ['foo', 'bar'], 'b': [1, 2]})\n",
        "df2 = pd.DataFrame({'a': ['foo', 'baz'], 'c': [3, 4]})\n"
      ],
      "execution_count": 23,
      "outputs": []
    },
    {
      "cell_type": "code",
      "metadata": {
        "colab": {
          "base_uri": "https://localhost:8080/",
          "height": 108
        },
        "id": "lKY_4vXzuhlX",
        "outputId": "4d2b473c-c885-4e17-e9b8-e81b8aa32b4a"
      },
      "source": [
        "df2"
      ],
      "execution_count": 27,
      "outputs": [
        {
          "output_type": "execute_result",
          "data": {
            "text/html": [
              "<div>\n",
              "<style scoped>\n",
              "    .dataframe tbody tr th:only-of-type {\n",
              "        vertical-align: middle;\n",
              "    }\n",
              "\n",
              "    .dataframe tbody tr th {\n",
              "        vertical-align: top;\n",
              "    }\n",
              "\n",
              "    .dataframe thead th {\n",
              "        text-align: right;\n",
              "    }\n",
              "</style>\n",
              "<table border=\"1\" class=\"dataframe\">\n",
              "  <thead>\n",
              "    <tr style=\"text-align: right;\">\n",
              "      <th></th>\n",
              "      <th>a</th>\n",
              "      <th>c</th>\n",
              "    </tr>\n",
              "  </thead>\n",
              "  <tbody>\n",
              "    <tr>\n",
              "      <th>0</th>\n",
              "      <td>foo</td>\n",
              "      <td>3</td>\n",
              "    </tr>\n",
              "    <tr>\n",
              "      <th>1</th>\n",
              "      <td>baz</td>\n",
              "      <td>4</td>\n",
              "    </tr>\n",
              "  </tbody>\n",
              "</table>\n",
              "</div>"
            ],
            "text/plain": [
              "     a  c\n",
              "0  foo  3\n",
              "1  baz  4"
            ]
          },
          "metadata": {},
          "execution_count": 27
        }
      ]
    },
    {
      "cell_type": "code",
      "metadata": {
        "colab": {
          "base_uri": "https://localhost:8080/",
          "height": 108
        },
        "id": "XZg3_0pcuc_O",
        "outputId": "7db802ba-1bd1-4c48-c471-4f94b26a6e78"
      },
      "source": [
        "df1"
      ],
      "execution_count": 26,
      "outputs": [
        {
          "output_type": "execute_result",
          "data": {
            "text/html": [
              "<div>\n",
              "<style scoped>\n",
              "    .dataframe tbody tr th:only-of-type {\n",
              "        vertical-align: middle;\n",
              "    }\n",
              "\n",
              "    .dataframe tbody tr th {\n",
              "        vertical-align: top;\n",
              "    }\n",
              "\n",
              "    .dataframe thead th {\n",
              "        text-align: right;\n",
              "    }\n",
              "</style>\n",
              "<table border=\"1\" class=\"dataframe\">\n",
              "  <thead>\n",
              "    <tr style=\"text-align: right;\">\n",
              "      <th></th>\n",
              "      <th>a</th>\n",
              "      <th>b</th>\n",
              "    </tr>\n",
              "  </thead>\n",
              "  <tbody>\n",
              "    <tr>\n",
              "      <th>0</th>\n",
              "      <td>foo</td>\n",
              "      <td>1</td>\n",
              "    </tr>\n",
              "    <tr>\n",
              "      <th>1</th>\n",
              "      <td>bar</td>\n",
              "      <td>2</td>\n",
              "    </tr>\n",
              "  </tbody>\n",
              "</table>\n",
              "</div>"
            ],
            "text/plain": [
              "     a  b\n",
              "0  foo  1\n",
              "1  bar  2"
            ]
          },
          "metadata": {},
          "execution_count": 26
        }
      ]
    },
    {
      "cell_type": "markdown",
      "metadata": {
        "id": "mBpvqdNUu5U8"
      },
      "source": [
        "# This gives the intersection of two columns"
      ]
    },
    {
      "cell_type": "code",
      "metadata": {
        "colab": {
          "base_uri": "https://localhost:8080/",
          "height": 78
        },
        "id": "PHeixlC6uE7L",
        "outputId": "ea4f1b9d-63e6-47b8-f287-c3d46fc49f0f"
      },
      "source": [
        "df1.merge(df2,how=\"inner\",on=\"a\")"
      ],
      "execution_count": 24,
      "outputs": [
        {
          "output_type": "execute_result",
          "data": {
            "text/html": [
              "<div>\n",
              "<style scoped>\n",
              "    .dataframe tbody tr th:only-of-type {\n",
              "        vertical-align: middle;\n",
              "    }\n",
              "\n",
              "    .dataframe tbody tr th {\n",
              "        vertical-align: top;\n",
              "    }\n",
              "\n",
              "    .dataframe thead th {\n",
              "        text-align: right;\n",
              "    }\n",
              "</style>\n",
              "<table border=\"1\" class=\"dataframe\">\n",
              "  <thead>\n",
              "    <tr style=\"text-align: right;\">\n",
              "      <th></th>\n",
              "      <th>a</th>\n",
              "      <th>b</th>\n",
              "      <th>c</th>\n",
              "    </tr>\n",
              "  </thead>\n",
              "  <tbody>\n",
              "    <tr>\n",
              "      <th>0</th>\n",
              "      <td>foo</td>\n",
              "      <td>1</td>\n",
              "      <td>3</td>\n",
              "    </tr>\n",
              "  </tbody>\n",
              "</table>\n",
              "</div>"
            ],
            "text/plain": [
              "     a  b  c\n",
              "0  foo  1  3"
            ]
          },
          "metadata": {},
          "execution_count": 24
        }
      ]
    },
    {
      "cell_type": "markdown",
      "metadata": {
        "id": "bUY6QqoIu_Ec"
      },
      "source": [
        "# This gives the union of two columns "
      ]
    },
    {
      "cell_type": "code",
      "metadata": {
        "colab": {
          "base_uri": "https://localhost:8080/",
          "height": 138
        },
        "id": "_b_EDlMRuUvD",
        "outputId": "116301b1-65a3-40e1-85b3-f6377a804781"
      },
      "source": [
        "df2.merge(df1,how=\"outer\",on=\"a\")"
      ],
      "execution_count": 29,
      "outputs": [
        {
          "output_type": "execute_result",
          "data": {
            "text/html": [
              "<div>\n",
              "<style scoped>\n",
              "    .dataframe tbody tr th:only-of-type {\n",
              "        vertical-align: middle;\n",
              "    }\n",
              "\n",
              "    .dataframe tbody tr th {\n",
              "        vertical-align: top;\n",
              "    }\n",
              "\n",
              "    .dataframe thead th {\n",
              "        text-align: right;\n",
              "    }\n",
              "</style>\n",
              "<table border=\"1\" class=\"dataframe\">\n",
              "  <thead>\n",
              "    <tr style=\"text-align: right;\">\n",
              "      <th></th>\n",
              "      <th>a</th>\n",
              "      <th>c</th>\n",
              "      <th>b</th>\n",
              "    </tr>\n",
              "  </thead>\n",
              "  <tbody>\n",
              "    <tr>\n",
              "      <th>0</th>\n",
              "      <td>foo</td>\n",
              "      <td>3.0</td>\n",
              "      <td>1.0</td>\n",
              "    </tr>\n",
              "    <tr>\n",
              "      <th>1</th>\n",
              "      <td>baz</td>\n",
              "      <td>4.0</td>\n",
              "      <td>NaN</td>\n",
              "    </tr>\n",
              "    <tr>\n",
              "      <th>2</th>\n",
              "      <td>bar</td>\n",
              "      <td>NaN</td>\n",
              "      <td>2.0</td>\n",
              "    </tr>\n",
              "  </tbody>\n",
              "</table>\n",
              "</div>"
            ],
            "text/plain": [
              "     a    c    b\n",
              "0  foo  3.0  1.0\n",
              "1  baz  4.0  NaN\n",
              "2  bar  NaN  2.0"
            ]
          },
          "metadata": {},
          "execution_count": 29
        }
      ]
    },
    {
      "cell_type": "markdown",
      "metadata": {
        "id": "Xlw0DIJIAEOY"
      },
      "source": [
        "# Handling Outliers In Our Data\n",
        "![image.png](data:image/png;base64,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) \n",
        "\n",
        "The image above shows a perfect normally distributed data set. If we look closely at the center of the curve, we’ll see that the mean value of the data set has a standard deviation of 0 and according to the theory, 99.7% of the data points of a normally distributed data set will be between 3 and -3 standard deviation away from the mean. That means that all the values with a standard deviation above 3 or below -3 will be considered as outliers"
      ]
    },
    {
      "cell_type": "markdown",
      "metadata": {
        "id": "Pn4csDI8AXH5"
      },
      "source": [
        "# BOX PLOT for Outlier Determination \n",
        "![image.png](data:image/png;base64,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) \n",
        "\n",
        "\n",
        "- As we can see in the image above, a box plot has a lot of components and every one of them helps us to represent and understand the data:\n",
        "- Q1. 25% of the data is below this data point.\n",
        "- Median. The central value of the data set. It can also be represented as Q2. - 50% of the data is below this data point.\n",
        "- Q3. 75% of the data is below this data point.\n",
        "- Minimum. The data point with the smallest value in the data set that isn’t an outlier.\n",
        "- Maximum. The data point with the biggest value in the data set that isn’t an outlier.\n",
        "- IQR. Represents all the values between Q1 and Q3."
      ]
    },
    {
      "cell_type": "code",
      "metadata": {
        "id": "VvI43PeGAV3b"
      },
      "source": [
        ""
      ],
      "execution_count": null,
      "outputs": []
    }
  ]
}