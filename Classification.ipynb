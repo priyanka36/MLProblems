{
  "nbformat": 4,
  "nbformat_minor": 0,
  "metadata": {
    "colab": {
      "name": "task2.ipynb",
      "provenance": [],
      "collapsed_sections": [],
      "include_colab_link": true
    },
    "kernelspec": {
      "name": "python3",
      "display_name": "Python 3"
    },
    "language_info": {
      "name": "python"
    }
  },
  "cells": [
    {
      "cell_type": "markdown",
      "metadata": {
        "id": "view-in-github",
        "colab_type": "text"
      },
      "source": [
        "<a href=\"https://colab.research.google.com/github/priyanka36/MLProblems/blob/main/Classification.ipynb\" target=\"_parent\"><img src=\"https://colab.research.google.com/assets/colab-badge.svg\" alt=\"Open In Colab\"/></a>"
      ]
    },
    {
      "cell_type": "code",
      "execution_count": null,
      "metadata": {
        "colab": {
          "base_uri": "https://localhost:8080/"
        },
        "id": "BPIMHqTo0XKR",
        "outputId": "b2b7275d-2796-4e6e-b393-f74489a1023d"
      },
      "outputs": [
        {
          "output_type": "stream",
          "name": "stdout",
          "text": [
            "Requirement already satisfied: kaggle in /usr/local/lib/python3.7/dist-packages (1.5.12)\n",
            "Requirement already satisfied: requests in /usr/local/lib/python3.7/dist-packages (from kaggle) (2.23.0)\n",
            "Requirement already satisfied: tqdm in /usr/local/lib/python3.7/dist-packages (from kaggle) (4.62.3)\n",
            "Requirement already satisfied: python-dateutil in /usr/local/lib/python3.7/dist-packages (from kaggle) (2.8.2)\n",
            "Requirement already satisfied: six>=1.10 in /usr/local/lib/python3.7/dist-packages (from kaggle) (1.15.0)\n",
            "Requirement already satisfied: certifi in /usr/local/lib/python3.7/dist-packages (from kaggle) (2021.10.8)\n",
            "Requirement already satisfied: urllib3 in /usr/local/lib/python3.7/dist-packages (from kaggle) (1.24.3)\n",
            "Requirement already satisfied: python-slugify in /usr/local/lib/python3.7/dist-packages (from kaggle) (5.0.2)\n",
            "Requirement already satisfied: text-unidecode>=1.3 in /usr/local/lib/python3.7/dist-packages (from python-slugify->kaggle) (1.3)\n",
            "Requirement already satisfied: idna<3,>=2.5 in /usr/local/lib/python3.7/dist-packages (from requests->kaggle) (2.10)\n",
            "Requirement already satisfied: chardet<4,>=3.0.2 in /usr/local/lib/python3.7/dist-packages (from requests->kaggle) (3.0.4)\n",
            "song-popularity-dataset.zip: Skipping, found more recently modified local copy (use --force to force download)\n"
          ]
        }
      ],
      "source": [
        "!pip install kaggle\n",
        "! cp kaggle.json ~/.kaggle/\n",
        "! chmod 600 ~/.kaggle/kaggle.json\n",
        "! kaggle datasets download -d yasserh/song-popularity-dataset"
      ]
    },
    {
      "cell_type": "code",
      "source": [
        "! unzip /content/song-popularity-dataset.zip\n"
      ],
      "metadata": {
        "colab": {
          "base_uri": "https://localhost:8080/"
        },
        "id": "Ryfutvnt0Z_z",
        "outputId": "ddbf28c2-b9d4-4839-d677-adfd77b29a27"
      },
      "execution_count": null,
      "outputs": [
        {
          "output_type": "stream",
          "name": "stdout",
          "text": [
            "Archive:  /content/song-popularity-dataset.zip\n",
            "replace song_data.csv? [y]es, [n]o, [A]ll, [N]one, [r]ename: y\n",
            "  inflating: song_data.csv           \n"
          ]
        }
      ]
    },
    {
      "cell_type": "code",
      "source": [
        "# All necessary imports and libraries \n",
        "import numpy as np\n",
        "import pandas as pd\n",
        "import matplotlib.pyplot as plt\n",
        "import seaborn as sns\n",
        "import math\n",
        "from scipy import stats\n",
        "from sklearn.linear_model import LinearRegression\n",
        "from sklearn import metrics\n",
        "from sklearn.preprocessing import StandardScaler\n",
        "from sklearn.metrics.pairwise import cosine_similarity\n",
        "from statsmodels.stats.outliers_influence import variance_inflation_factor \n",
        "from statsmodels.tools.tools import add_constant\n",
        "from sklearn.model_selection import train_test_split\n",
        "from sklearn.metrics import mean_absolute_error\n",
        "from sklearn.metrics import mean_squared_error\n",
        "from sklearn.linear_model import Lasso"
      ],
      "metadata": {
        "id": "iNvo-LFWsbVO"
      },
      "execution_count": null,
      "outputs": []
    },
    {
      "cell_type": "code",
      "source": [
        "df = pd.read_csv(\"/content/song_data.csv\")\n",
        "df"
      ],
      "metadata": {
        "colab": {
          "base_uri": "https://localhost:8080/",
          "height": 643
        },
        "id": "4DI0xtmq1UW0",
        "outputId": "595284a9-a4a7-4624-ae13-30568e83c2d1"
      },
      "execution_count": null,
      "outputs": [
        {
          "output_type": "execute_result",
          "data": {
            "text/html": [
              "\n",
              "  <div id=\"df-0053c593-95b9-4ade-9786-2fc841f3c041\">\n",
              "    <div class=\"colab-df-container\">\n",
              "      <div>\n",
              "<style scoped>\n",
              "    .dataframe tbody tr th:only-of-type {\n",
              "        vertical-align: middle;\n",
              "    }\n",
              "\n",
              "    .dataframe tbody tr th {\n",
              "        vertical-align: top;\n",
              "    }\n",
              "\n",
              "    .dataframe thead th {\n",
              "        text-align: right;\n",
              "    }\n",
              "</style>\n",
              "<table border=\"1\" class=\"dataframe\">\n",
              "  <thead>\n",
              "    <tr style=\"text-align: right;\">\n",
              "      <th></th>\n",
              "      <th>song_name</th>\n",
              "      <th>song_popularity</th>\n",
              "      <th>song_duration_ms</th>\n",
              "      <th>acousticness</th>\n",
              "      <th>danceability</th>\n",
              "      <th>energy</th>\n",
              "      <th>instrumentalness</th>\n",
              "      <th>key</th>\n",
              "      <th>liveness</th>\n",
              "      <th>loudness</th>\n",
              "      <th>audio_mode</th>\n",
              "      <th>speechiness</th>\n",
              "      <th>tempo</th>\n",
              "      <th>time_signature</th>\n",
              "      <th>audio_valence</th>\n",
              "    </tr>\n",
              "  </thead>\n",
              "  <tbody>\n",
              "    <tr>\n",
              "      <th>0</th>\n",
              "      <td>Boulevard of Broken Dreams</td>\n",
              "      <td>73</td>\n",
              "      <td>262333</td>\n",
              "      <td>0.005520</td>\n",
              "      <td>0.496</td>\n",
              "      <td>0.682</td>\n",
              "      <td>0.000029</td>\n",
              "      <td>8</td>\n",
              "      <td>0.0589</td>\n",
              "      <td>-4.095</td>\n",
              "      <td>1</td>\n",
              "      <td>0.0294</td>\n",
              "      <td>167.060</td>\n",
              "      <td>4</td>\n",
              "      <td>0.474</td>\n",
              "    </tr>\n",
              "    <tr>\n",
              "      <th>1</th>\n",
              "      <td>In The End</td>\n",
              "      <td>66</td>\n",
              "      <td>216933</td>\n",
              "      <td>0.010300</td>\n",
              "      <td>0.542</td>\n",
              "      <td>0.853</td>\n",
              "      <td>0.000000</td>\n",
              "      <td>3</td>\n",
              "      <td>0.1080</td>\n",
              "      <td>-6.407</td>\n",
              "      <td>0</td>\n",
              "      <td>0.0498</td>\n",
              "      <td>105.256</td>\n",
              "      <td>4</td>\n",
              "      <td>0.370</td>\n",
              "    </tr>\n",
              "    <tr>\n",
              "      <th>2</th>\n",
              "      <td>Seven Nation Army</td>\n",
              "      <td>76</td>\n",
              "      <td>231733</td>\n",
              "      <td>0.008170</td>\n",
              "      <td>0.737</td>\n",
              "      <td>0.463</td>\n",
              "      <td>0.447000</td>\n",
              "      <td>0</td>\n",
              "      <td>0.2550</td>\n",
              "      <td>-7.828</td>\n",
              "      <td>1</td>\n",
              "      <td>0.0792</td>\n",
              "      <td>123.881</td>\n",
              "      <td>4</td>\n",
              "      <td>0.324</td>\n",
              "    </tr>\n",
              "    <tr>\n",
              "      <th>3</th>\n",
              "      <td>By The Way</td>\n",
              "      <td>74</td>\n",
              "      <td>216933</td>\n",
              "      <td>0.026400</td>\n",
              "      <td>0.451</td>\n",
              "      <td>0.970</td>\n",
              "      <td>0.003550</td>\n",
              "      <td>0</td>\n",
              "      <td>0.1020</td>\n",
              "      <td>-4.938</td>\n",
              "      <td>1</td>\n",
              "      <td>0.1070</td>\n",
              "      <td>122.444</td>\n",
              "      <td>4</td>\n",
              "      <td>0.198</td>\n",
              "    </tr>\n",
              "    <tr>\n",
              "      <th>4</th>\n",
              "      <td>How You Remind Me</td>\n",
              "      <td>56</td>\n",
              "      <td>223826</td>\n",
              "      <td>0.000954</td>\n",
              "      <td>0.447</td>\n",
              "      <td>0.766</td>\n",
              "      <td>0.000000</td>\n",
              "      <td>10</td>\n",
              "      <td>0.1130</td>\n",
              "      <td>-5.065</td>\n",
              "      <td>1</td>\n",
              "      <td>0.0313</td>\n",
              "      <td>172.011</td>\n",
              "      <td>4</td>\n",
              "      <td>0.574</td>\n",
              "    </tr>\n",
              "    <tr>\n",
              "      <th>...</th>\n",
              "      <td>...</td>\n",
              "      <td>...</td>\n",
              "      <td>...</td>\n",
              "      <td>...</td>\n",
              "      <td>...</td>\n",
              "      <td>...</td>\n",
              "      <td>...</td>\n",
              "      <td>...</td>\n",
              "      <td>...</td>\n",
              "      <td>...</td>\n",
              "      <td>...</td>\n",
              "      <td>...</td>\n",
              "      <td>...</td>\n",
              "      <td>...</td>\n",
              "      <td>...</td>\n",
              "    </tr>\n",
              "    <tr>\n",
              "      <th>18830</th>\n",
              "      <td>Let It Breathe</td>\n",
              "      <td>60</td>\n",
              "      <td>159645</td>\n",
              "      <td>0.893000</td>\n",
              "      <td>0.500</td>\n",
              "      <td>0.151</td>\n",
              "      <td>0.000065</td>\n",
              "      <td>11</td>\n",
              "      <td>0.1110</td>\n",
              "      <td>-16.107</td>\n",
              "      <td>1</td>\n",
              "      <td>0.0348</td>\n",
              "      <td>113.969</td>\n",
              "      <td>4</td>\n",
              "      <td>0.300</td>\n",
              "    </tr>\n",
              "    <tr>\n",
              "      <th>18831</th>\n",
              "      <td>Answers</td>\n",
              "      <td>60</td>\n",
              "      <td>205666</td>\n",
              "      <td>0.765000</td>\n",
              "      <td>0.495</td>\n",
              "      <td>0.161</td>\n",
              "      <td>0.000001</td>\n",
              "      <td>11</td>\n",
              "      <td>0.1050</td>\n",
              "      <td>-14.078</td>\n",
              "      <td>0</td>\n",
              "      <td>0.0301</td>\n",
              "      <td>94.286</td>\n",
              "      <td>4</td>\n",
              "      <td>0.265</td>\n",
              "    </tr>\n",
              "    <tr>\n",
              "      <th>18832</th>\n",
              "      <td>Sudden Love (Acoustic)</td>\n",
              "      <td>23</td>\n",
              "      <td>182211</td>\n",
              "      <td>0.847000</td>\n",
              "      <td>0.719</td>\n",
              "      <td>0.325</td>\n",
              "      <td>0.000000</td>\n",
              "      <td>0</td>\n",
              "      <td>0.1250</td>\n",
              "      <td>-12.222</td>\n",
              "      <td>1</td>\n",
              "      <td>0.0355</td>\n",
              "      <td>130.534</td>\n",
              "      <td>4</td>\n",
              "      <td>0.286</td>\n",
              "    </tr>\n",
              "    <tr>\n",
              "      <th>18833</th>\n",
              "      <td>Gentle on My Mind</td>\n",
              "      <td>55</td>\n",
              "      <td>352280</td>\n",
              "      <td>0.945000</td>\n",
              "      <td>0.488</td>\n",
              "      <td>0.326</td>\n",
              "      <td>0.015700</td>\n",
              "      <td>3</td>\n",
              "      <td>0.1190</td>\n",
              "      <td>-12.020</td>\n",
              "      <td>1</td>\n",
              "      <td>0.0328</td>\n",
              "      <td>106.063</td>\n",
              "      <td>4</td>\n",
              "      <td>0.323</td>\n",
              "    </tr>\n",
              "    <tr>\n",
              "      <th>18834</th>\n",
              "      <td>Up to Me</td>\n",
              "      <td>60</td>\n",
              "      <td>193533</td>\n",
              "      <td>0.911000</td>\n",
              "      <td>0.640</td>\n",
              "      <td>0.381</td>\n",
              "      <td>0.000254</td>\n",
              "      <td>4</td>\n",
              "      <td>0.1040</td>\n",
              "      <td>-11.790</td>\n",
              "      <td>1</td>\n",
              "      <td>0.0302</td>\n",
              "      <td>91.490</td>\n",
              "      <td>4</td>\n",
              "      <td>0.581</td>\n",
              "    </tr>\n",
              "  </tbody>\n",
              "</table>\n",
              "<p>18835 rows × 15 columns</p>\n",
              "</div>\n",
              "      <button class=\"colab-df-convert\" onclick=\"convertToInteractive('df-0053c593-95b9-4ade-9786-2fc841f3c041')\"\n",
              "              title=\"Convert this dataframe to an interactive table.\"\n",
              "              style=\"display:none;\">\n",
              "        \n",
              "  <svg xmlns=\"http://www.w3.org/2000/svg\" height=\"24px\"viewBox=\"0 0 24 24\"\n",
              "       width=\"24px\">\n",
              "    <path d=\"M0 0h24v24H0V0z\" fill=\"none\"/>\n",
              "    <path d=\"M18.56 5.44l.94 2.06.94-2.06 2.06-.94-2.06-.94-.94-2.06-.94 2.06-2.06.94zm-11 1L8.5 8.5l.94-2.06 2.06-.94-2.06-.94L8.5 2.5l-.94 2.06-2.06.94zm10 10l.94 2.06.94-2.06 2.06-.94-2.06-.94-.94-2.06-.94 2.06-2.06.94z\"/><path d=\"M17.41 7.96l-1.37-1.37c-.4-.4-.92-.59-1.43-.59-.52 0-1.04.2-1.43.59L10.3 9.45l-7.72 7.72c-.78.78-.78 2.05 0 2.83L4 21.41c.39.39.9.59 1.41.59.51 0 1.02-.2 1.41-.59l7.78-7.78 2.81-2.81c.8-.78.8-2.07 0-2.86zM5.41 20L4 18.59l7.72-7.72 1.47 1.35L5.41 20z\"/>\n",
              "  </svg>\n",
              "      </button>\n",
              "      \n",
              "  <style>\n",
              "    .colab-df-container {\n",
              "      display:flex;\n",
              "      flex-wrap:wrap;\n",
              "      gap: 12px;\n",
              "    }\n",
              "\n",
              "    .colab-df-convert {\n",
              "      background-color: #E8F0FE;\n",
              "      border: none;\n",
              "      border-radius: 50%;\n",
              "      cursor: pointer;\n",
              "      display: none;\n",
              "      fill: #1967D2;\n",
              "      height: 32px;\n",
              "      padding: 0 0 0 0;\n",
              "      width: 32px;\n",
              "    }\n",
              "\n",
              "    .colab-df-convert:hover {\n",
              "      background-color: #E2EBFA;\n",
              "      box-shadow: 0px 1px 2px rgba(60, 64, 67, 0.3), 0px 1px 3px 1px rgba(60, 64, 67, 0.15);\n",
              "      fill: #174EA6;\n",
              "    }\n",
              "\n",
              "    [theme=dark] .colab-df-convert {\n",
              "      background-color: #3B4455;\n",
              "      fill: #D2E3FC;\n",
              "    }\n",
              "\n",
              "    [theme=dark] .colab-df-convert:hover {\n",
              "      background-color: #434B5C;\n",
              "      box-shadow: 0px 1px 3px 1px rgba(0, 0, 0, 0.15);\n",
              "      filter: drop-shadow(0px 1px 2px rgba(0, 0, 0, 0.3));\n",
              "      fill: #FFFFFF;\n",
              "    }\n",
              "  </style>\n",
              "\n",
              "      <script>\n",
              "        const buttonEl =\n",
              "          document.querySelector('#df-0053c593-95b9-4ade-9786-2fc841f3c041 button.colab-df-convert');\n",
              "        buttonEl.style.display =\n",
              "          google.colab.kernel.accessAllowed ? 'block' : 'none';\n",
              "\n",
              "        async function convertToInteractive(key) {\n",
              "          const element = document.querySelector('#df-0053c593-95b9-4ade-9786-2fc841f3c041');\n",
              "          const dataTable =\n",
              "            await google.colab.kernel.invokeFunction('convertToInteractive',\n",
              "                                                     [key], {});\n",
              "          if (!dataTable) return;\n",
              "\n",
              "          const docLinkHtml = 'Like what you see? Visit the ' +\n",
              "            '<a target=\"_blank\" href=https://colab.research.google.com/notebooks/data_table.ipynb>data table notebook</a>'\n",
              "            + ' to learn more about interactive tables.';\n",
              "          element.innerHTML = '';\n",
              "          dataTable['output_type'] = 'display_data';\n",
              "          await google.colab.output.renderOutput(dataTable, element);\n",
              "          const docLink = document.createElement('div');\n",
              "          docLink.innerHTML = docLinkHtml;\n",
              "          element.appendChild(docLink);\n",
              "        }\n",
              "      </script>\n",
              "    </div>\n",
              "  </div>\n",
              "  "
            ],
            "text/plain": [
              "                        song_name  ...  audio_valence\n",
              "0      Boulevard of Broken Dreams  ...          0.474\n",
              "1                      In The End  ...          0.370\n",
              "2               Seven Nation Army  ...          0.324\n",
              "3                      By The Way  ...          0.198\n",
              "4               How You Remind Me  ...          0.574\n",
              "...                           ...  ...            ...\n",
              "18830              Let It Breathe  ...          0.300\n",
              "18831                     Answers  ...          0.265\n",
              "18832      Sudden Love (Acoustic)  ...          0.286\n",
              "18833           Gentle on My Mind  ...          0.323\n",
              "18834                    Up to Me  ...          0.581\n",
              "\n",
              "[18835 rows x 15 columns]"
            ]
          },
          "metadata": {},
          "execution_count": 94
        }
      ]
    },
    {
      "cell_type": "code",
      "source": [
        "df.info()"
      ],
      "metadata": {
        "colab": {
          "base_uri": "https://localhost:8080/"
        },
        "id": "H9MJZQhh1ndo",
        "outputId": "ba661f6a-f33a-4e0b-97a4-d9e9530612a2"
      },
      "execution_count": null,
      "outputs": [
        {
          "output_type": "stream",
          "name": "stdout",
          "text": [
            "<class 'pandas.core.frame.DataFrame'>\n",
            "RangeIndex: 18835 entries, 0 to 18834\n",
            "Data columns (total 15 columns):\n",
            " #   Column            Non-Null Count  Dtype  \n",
            "---  ------            --------------  -----  \n",
            " 0   song_name         18835 non-null  object \n",
            " 1   song_popularity   18835 non-null  int64  \n",
            " 2   song_duration_ms  18835 non-null  int64  \n",
            " 3   acousticness      18835 non-null  float64\n",
            " 4   danceability      18835 non-null  float64\n",
            " 5   energy            18835 non-null  float64\n",
            " 6   instrumentalness  18835 non-null  float64\n",
            " 7   key               18835 non-null  int64  \n",
            " 8   liveness          18835 non-null  float64\n",
            " 9   loudness          18835 non-null  float64\n",
            " 10  audio_mode        18835 non-null  int64  \n",
            " 11  speechiness       18835 non-null  float64\n",
            " 12  tempo             18835 non-null  float64\n",
            " 13  time_signature    18835 non-null  int64  \n",
            " 14  audio_valence     18835 non-null  float64\n",
            "dtypes: float64(9), int64(5), object(1)\n",
            "memory usage: 2.2+ MB\n"
          ]
        }
      ]
    },
    {
      "cell_type": "markdown",
      "source": [
        "# Exploratory Data Analysis "
      ],
      "metadata": {
        "id": "wz6EyKPC1-gm"
      }
    },
    {
      "cell_type": "markdown",
      "source": [
        "#### Checking whether there are null values in the dataset\n",
        "#### On analysis of data it was found that some song names contained special characters which were not acceptable so the special characters were discarded.\n",
        "\n"
      ],
      "metadata": {
        "id": "epNOjt4n3nEJ"
      }
    },
    {
      "cell_type": "code",
      "source": [
        "df[\"song_name\"] = df[\"song_name\"].str.replace('\\$\\$','')\n",
        "df.isnull().sum()"
      ],
      "metadata": {
        "colab": {
          "base_uri": "https://localhost:8080/"
        },
        "id": "T-mVyI-a3FbK",
        "outputId": "17a151b0-e822-4346-c5c1-8b4447cfe71d"
      },
      "execution_count": null,
      "outputs": [
        {
          "output_type": "stream",
          "name": "stderr",
          "text": [
            "/usr/local/lib/python3.7/dist-packages/ipykernel_launcher.py:1: FutureWarning: The default value of regex will change from True to False in a future version.\n",
            "  \"\"\"Entry point for launching an IPython kernel.\n"
          ]
        },
        {
          "output_type": "execute_result",
          "data": {
            "text/plain": [
              "song_name           0\n",
              "song_popularity     0\n",
              "song_duration_ms    0\n",
              "acousticness        0\n",
              "danceability        0\n",
              "energy              0\n",
              "instrumentalness    0\n",
              "key                 0\n",
              "liveness            0\n",
              "loudness            0\n",
              "audio_mode          0\n",
              "speechiness         0\n",
              "tempo               0\n",
              "time_signature      0\n",
              "audio_valence       0\n",
              "dtype: int64"
            ]
          },
          "metadata": {},
          "execution_count": 96
        }
      ]
    },
    {
      "cell_type": "markdown",
      "source": [
        "###There are no null values is the dataset"
      ],
      "metadata": {
        "id": "lMBnf-SN3ahq"
      }
    },
    {
      "cell_type": "code",
      "source": [
        "df_corr = df.corr()"
      ],
      "metadata": {
        "id": "zCPky3bc3VK2"
      },
      "execution_count": null,
      "outputs": []
    },
    {
      "cell_type": "markdown",
      "source": [
        "#### We exclude highly correlated features while running linear regression\n",
        "#### When we have highly correlated features, the variance of Weight matrix will be large\n"
      ],
      "metadata": {
        "id": "NxIaay5iuou3"
      }
    },
    {
      "cell_type": "code",
      "source": [
        "(df_corr)"
      ],
      "metadata": {
        "colab": {
          "base_uri": "https://localhost:8080/",
          "height": 552
        },
        "id": "qLVNZXfhs4fO",
        "outputId": "920f5bf2-2cd3-4fda-bc26-2778d5925695"
      },
      "execution_count": null,
      "outputs": [
        {
          "output_type": "execute_result",
          "data": {
            "text/html": [
              "\n",
              "  <div id=\"df-1bce87b2-3c07-42f8-b468-a7be24cc3128\">\n",
              "    <div class=\"colab-df-container\">\n",
              "      <div>\n",
              "<style scoped>\n",
              "    .dataframe tbody tr th:only-of-type {\n",
              "        vertical-align: middle;\n",
              "    }\n",
              "\n",
              "    .dataframe tbody tr th {\n",
              "        vertical-align: top;\n",
              "    }\n",
              "\n",
              "    .dataframe thead th {\n",
              "        text-align: right;\n",
              "    }\n",
              "</style>\n",
              "<table border=\"1\" class=\"dataframe\">\n",
              "  <thead>\n",
              "    <tr style=\"text-align: right;\">\n",
              "      <th></th>\n",
              "      <th>song_popularity</th>\n",
              "      <th>song_duration_ms</th>\n",
              "      <th>acousticness</th>\n",
              "      <th>danceability</th>\n",
              "      <th>energy</th>\n",
              "      <th>instrumentalness</th>\n",
              "      <th>key</th>\n",
              "      <th>liveness</th>\n",
              "      <th>loudness</th>\n",
              "      <th>audio_mode</th>\n",
              "      <th>speechiness</th>\n",
              "      <th>tempo</th>\n",
              "      <th>time_signature</th>\n",
              "      <th>audio_valence</th>\n",
              "    </tr>\n",
              "  </thead>\n",
              "  <tbody>\n",
              "    <tr>\n",
              "      <th>song_popularity</th>\n",
              "      <td>1.000000</td>\n",
              "      <td>-0.018899</td>\n",
              "      <td>-0.065181</td>\n",
              "      <td>0.104290</td>\n",
              "      <td>0.001365</td>\n",
              "      <td>-0.130907</td>\n",
              "      <td>-0.013160</td>\n",
              "      <td>-0.038937</td>\n",
              "      <td>0.099442</td>\n",
              "      <td>-0.004969</td>\n",
              "      <td>0.021479</td>\n",
              "      <td>-0.022672</td>\n",
              "      <td>0.034983</td>\n",
              "      <td>-0.052895</td>\n",
              "    </tr>\n",
              "    <tr>\n",
              "      <th>song_duration_ms</th>\n",
              "      <td>-0.018899</td>\n",
              "      <td>1.000000</td>\n",
              "      <td>-0.097882</td>\n",
              "      <td>-0.104985</td>\n",
              "      <td>0.092688</td>\n",
              "      <td>-0.015188</td>\n",
              "      <td>-0.004615</td>\n",
              "      <td>0.016086</td>\n",
              "      <td>0.016469</td>\n",
              "      <td>-0.026328</td>\n",
              "      <td>-0.083447</td>\n",
              "      <td>0.012791</td>\n",
              "      <td>0.000264</td>\n",
              "      <td>-0.063421</td>\n",
              "    </tr>\n",
              "    <tr>\n",
              "      <th>acousticness</th>\n",
              "      <td>-0.065181</td>\n",
              "      <td>-0.097882</td>\n",
              "      <td>1.000000</td>\n",
              "      <td>-0.182500</td>\n",
              "      <td>-0.662639</td>\n",
              "      <td>0.173098</td>\n",
              "      <td>-0.002025</td>\n",
              "      <td>-0.082537</td>\n",
              "      <td>-0.557744</td>\n",
              "      <td>0.064100</td>\n",
              "      <td>-0.093574</td>\n",
              "      <td>-0.136421</td>\n",
              "      <td>-0.157177</td>\n",
              "      <td>-0.121670</td>\n",
              "    </tr>\n",
              "    <tr>\n",
              "      <th>danceability</th>\n",
              "      <td>0.104290</td>\n",
              "      <td>-0.104985</td>\n",
              "      <td>-0.182500</td>\n",
              "      <td>1.000000</td>\n",
              "      <td>0.044373</td>\n",
              "      <td>-0.130483</td>\n",
              "      <td>0.007723</td>\n",
              "      <td>-0.090694</td>\n",
              "      <td>0.177639</td>\n",
              "      <td>-0.106539</td>\n",
              "      <td>0.213728</td>\n",
              "      <td>-0.121286</td>\n",
              "      <td>0.136391</td>\n",
              "      <td>0.332014</td>\n",
              "    </tr>\n",
              "    <tr>\n",
              "      <th>energy</th>\n",
              "      <td>0.001365</td>\n",
              "      <td>0.092688</td>\n",
              "      <td>-0.662639</td>\n",
              "      <td>0.044373</td>\n",
              "      <td>1.000000</td>\n",
              "      <td>-0.205914</td>\n",
              "      <td>0.020416</td>\n",
              "      <td>0.167143</td>\n",
              "      <td>0.755516</td>\n",
              "      <td>-0.051605</td>\n",
              "      <td>0.062053</td>\n",
              "      <td>0.162448</td>\n",
              "      <td>0.146265</td>\n",
              "      <td>0.316742</td>\n",
              "    </tr>\n",
              "    <tr>\n",
              "      <th>instrumentalness</th>\n",
              "      <td>-0.130907</td>\n",
              "      <td>-0.015188</td>\n",
              "      <td>0.173098</td>\n",
              "      <td>-0.130483</td>\n",
              "      <td>-0.205914</td>\n",
              "      <td>1.000000</td>\n",
              "      <td>-0.009463</td>\n",
              "      <td>-0.032887</td>\n",
              "      <td>-0.390248</td>\n",
              "      <td>-0.014983</td>\n",
              "      <td>-0.081138</td>\n",
              "      <td>-0.036934</td>\n",
              "      <td>-0.069181</td>\n",
              "      <td>-0.178570</td>\n",
              "    </tr>\n",
              "    <tr>\n",
              "      <th>key</th>\n",
              "      <td>-0.013160</td>\n",
              "      <td>-0.004615</td>\n",
              "      <td>-0.002025</td>\n",
              "      <td>0.007723</td>\n",
              "      <td>0.020416</td>\n",
              "      <td>-0.009463</td>\n",
              "      <td>1.000000</td>\n",
              "      <td>-0.008193</td>\n",
              "      <td>0.010452</td>\n",
              "      <td>-0.169848</td>\n",
              "      <td>0.033639</td>\n",
              "      <td>0.003239</td>\n",
              "      <td>-0.008282</td>\n",
              "      <td>0.025356</td>\n",
              "    </tr>\n",
              "    <tr>\n",
              "      <th>liveness</th>\n",
              "      <td>-0.038937</td>\n",
              "      <td>0.016086</td>\n",
              "      <td>-0.082537</td>\n",
              "      <td>-0.090694</td>\n",
              "      <td>0.167143</td>\n",
              "      <td>-0.032887</td>\n",
              "      <td>-0.008193</td>\n",
              "      <td>1.000000</td>\n",
              "      <td>0.102450</td>\n",
              "      <td>-0.001035</td>\n",
              "      <td>0.090845</td>\n",
              "      <td>0.031876</td>\n",
              "      <td>0.013289</td>\n",
              "      <td>0.013789</td>\n",
              "    </tr>\n",
              "    <tr>\n",
              "      <th>loudness</th>\n",
              "      <td>0.099442</td>\n",
              "      <td>0.016469</td>\n",
              "      <td>-0.557744</td>\n",
              "      <td>0.177639</td>\n",
              "      <td>0.755516</td>\n",
              "      <td>-0.390248</td>\n",
              "      <td>0.010452</td>\n",
              "      <td>0.102450</td>\n",
              "      <td>1.000000</td>\n",
              "      <td>-0.058506</td>\n",
              "      <td>0.078164</td>\n",
              "      <td>0.129938</td>\n",
              "      <td>0.119241</td>\n",
              "      <td>0.199696</td>\n",
              "    </tr>\n",
              "    <tr>\n",
              "      <th>audio_mode</th>\n",
              "      <td>-0.004969</td>\n",
              "      <td>-0.026328</td>\n",
              "      <td>0.064100</td>\n",
              "      <td>-0.106539</td>\n",
              "      <td>-0.051605</td>\n",
              "      <td>-0.014983</td>\n",
              "      <td>-0.169848</td>\n",
              "      <td>-0.001035</td>\n",
              "      <td>-0.058506</td>\n",
              "      <td>1.000000</td>\n",
              "      <td>-0.111627</td>\n",
              "      <td>0.020448</td>\n",
              "      <td>-0.024042</td>\n",
              "      <td>-0.004558</td>\n",
              "    </tr>\n",
              "    <tr>\n",
              "      <th>speechiness</th>\n",
              "      <td>0.021479</td>\n",
              "      <td>-0.083447</td>\n",
              "      <td>-0.093574</td>\n",
              "      <td>0.213728</td>\n",
              "      <td>0.062053</td>\n",
              "      <td>-0.081138</td>\n",
              "      <td>0.033639</td>\n",
              "      <td>0.090845</td>\n",
              "      <td>0.078164</td>\n",
              "      <td>-0.111627</td>\n",
              "      <td>1.000000</td>\n",
              "      <td>0.071685</td>\n",
              "      <td>0.057162</td>\n",
              "      <td>0.011046</td>\n",
              "    </tr>\n",
              "    <tr>\n",
              "      <th>tempo</th>\n",
              "      <td>-0.022672</td>\n",
              "      <td>0.012791</td>\n",
              "      <td>-0.136421</td>\n",
              "      <td>-0.121286</td>\n",
              "      <td>0.162448</td>\n",
              "      <td>-0.036934</td>\n",
              "      <td>0.003239</td>\n",
              "      <td>0.031876</td>\n",
              "      <td>0.129938</td>\n",
              "      <td>0.020448</td>\n",
              "      <td>0.071685</td>\n",
              "      <td>1.000000</td>\n",
              "      <td>0.003978</td>\n",
              "      <td>0.037667</td>\n",
              "    </tr>\n",
              "    <tr>\n",
              "      <th>time_signature</th>\n",
              "      <td>0.034983</td>\n",
              "      <td>0.000264</td>\n",
              "      <td>-0.157177</td>\n",
              "      <td>0.136391</td>\n",
              "      <td>0.146265</td>\n",
              "      <td>-0.069181</td>\n",
              "      <td>-0.008282</td>\n",
              "      <td>0.013289</td>\n",
              "      <td>0.119241</td>\n",
              "      <td>-0.024042</td>\n",
              "      <td>0.057162</td>\n",
              "      <td>0.003978</td>\n",
              "      <td>1.000000</td>\n",
              "      <td>0.094670</td>\n",
              "    </tr>\n",
              "    <tr>\n",
              "      <th>audio_valence</th>\n",
              "      <td>-0.052895</td>\n",
              "      <td>-0.063421</td>\n",
              "      <td>-0.121670</td>\n",
              "      <td>0.332014</td>\n",
              "      <td>0.316742</td>\n",
              "      <td>-0.178570</td>\n",
              "      <td>0.025356</td>\n",
              "      <td>0.013789</td>\n",
              "      <td>0.199696</td>\n",
              "      <td>-0.004558</td>\n",
              "      <td>0.011046</td>\n",
              "      <td>0.037667</td>\n",
              "      <td>0.094670</td>\n",
              "      <td>1.000000</td>\n",
              "    </tr>\n",
              "  </tbody>\n",
              "</table>\n",
              "</div>\n",
              "      <button class=\"colab-df-convert\" onclick=\"convertToInteractive('df-1bce87b2-3c07-42f8-b468-a7be24cc3128')\"\n",
              "              title=\"Convert this dataframe to an interactive table.\"\n",
              "              style=\"display:none;\">\n",
              "        \n",
              "  <svg xmlns=\"http://www.w3.org/2000/svg\" height=\"24px\"viewBox=\"0 0 24 24\"\n",
              "       width=\"24px\">\n",
              "    <path d=\"M0 0h24v24H0V0z\" fill=\"none\"/>\n",
              "    <path d=\"M18.56 5.44l.94 2.06.94-2.06 2.06-.94-2.06-.94-.94-2.06-.94 2.06-2.06.94zm-11 1L8.5 8.5l.94-2.06 2.06-.94-2.06-.94L8.5 2.5l-.94 2.06-2.06.94zm10 10l.94 2.06.94-2.06 2.06-.94-2.06-.94-.94-2.06-.94 2.06-2.06.94z\"/><path d=\"M17.41 7.96l-1.37-1.37c-.4-.4-.92-.59-1.43-.59-.52 0-1.04.2-1.43.59L10.3 9.45l-7.72 7.72c-.78.78-.78 2.05 0 2.83L4 21.41c.39.39.9.59 1.41.59.51 0 1.02-.2 1.41-.59l7.78-7.78 2.81-2.81c.8-.78.8-2.07 0-2.86zM5.41 20L4 18.59l7.72-7.72 1.47 1.35L5.41 20z\"/>\n",
              "  </svg>\n",
              "      </button>\n",
              "      \n",
              "  <style>\n",
              "    .colab-df-container {\n",
              "      display:flex;\n",
              "      flex-wrap:wrap;\n",
              "      gap: 12px;\n",
              "    }\n",
              "\n",
              "    .colab-df-convert {\n",
              "      background-color: #E8F0FE;\n",
              "      border: none;\n",
              "      border-radius: 50%;\n",
              "      cursor: pointer;\n",
              "      display: none;\n",
              "      fill: #1967D2;\n",
              "      height: 32px;\n",
              "      padding: 0 0 0 0;\n",
              "      width: 32px;\n",
              "    }\n",
              "\n",
              "    .colab-df-convert:hover {\n",
              "      background-color: #E2EBFA;\n",
              "      box-shadow: 0px 1px 2px rgba(60, 64, 67, 0.3), 0px 1px 3px 1px rgba(60, 64, 67, 0.15);\n",
              "      fill: #174EA6;\n",
              "    }\n",
              "\n",
              "    [theme=dark] .colab-df-convert {\n",
              "      background-color: #3B4455;\n",
              "      fill: #D2E3FC;\n",
              "    }\n",
              "\n",
              "    [theme=dark] .colab-df-convert:hover {\n",
              "      background-color: #434B5C;\n",
              "      box-shadow: 0px 1px 3px 1px rgba(0, 0, 0, 0.15);\n",
              "      filter: drop-shadow(0px 1px 2px rgba(0, 0, 0, 0.3));\n",
              "      fill: #FFFFFF;\n",
              "    }\n",
              "  </style>\n",
              "\n",
              "      <script>\n",
              "        const buttonEl =\n",
              "          document.querySelector('#df-1bce87b2-3c07-42f8-b468-a7be24cc3128 button.colab-df-convert');\n",
              "        buttonEl.style.display =\n",
              "          google.colab.kernel.accessAllowed ? 'block' : 'none';\n",
              "\n",
              "        async function convertToInteractive(key) {\n",
              "          const element = document.querySelector('#df-1bce87b2-3c07-42f8-b468-a7be24cc3128');\n",
              "          const dataTable =\n",
              "            await google.colab.kernel.invokeFunction('convertToInteractive',\n",
              "                                                     [key], {});\n",
              "          if (!dataTable) return;\n",
              "\n",
              "          const docLinkHtml = 'Like what you see? Visit the ' +\n",
              "            '<a target=\"_blank\" href=https://colab.research.google.com/notebooks/data_table.ipynb>data table notebook</a>'\n",
              "            + ' to learn more about interactive tables.';\n",
              "          element.innerHTML = '';\n",
              "          dataTable['output_type'] = 'display_data';\n",
              "          await google.colab.output.renderOutput(dataTable, element);\n",
              "          const docLink = document.createElement('div');\n",
              "          docLink.innerHTML = docLinkHtml;\n",
              "          element.appendChild(docLink);\n",
              "        }\n",
              "      </script>\n",
              "    </div>\n",
              "  </div>\n",
              "  "
            ],
            "text/plain": [
              "                  song_popularity  ...  audio_valence\n",
              "song_popularity          1.000000  ...      -0.052895\n",
              "song_duration_ms        -0.018899  ...      -0.063421\n",
              "acousticness            -0.065181  ...      -0.121670\n",
              "danceability             0.104290  ...       0.332014\n",
              "energy                   0.001365  ...       0.316742\n",
              "instrumentalness        -0.130907  ...      -0.178570\n",
              "key                     -0.013160  ...       0.025356\n",
              "liveness                -0.038937  ...       0.013789\n",
              "loudness                 0.099442  ...       0.199696\n",
              "audio_mode              -0.004969  ...      -0.004558\n",
              "speechiness              0.021479  ...       0.011046\n",
              "tempo                   -0.022672  ...       0.037667\n",
              "time_signature           0.034983  ...       0.094670\n",
              "audio_valence           -0.052895  ...       1.000000\n",
              "\n",
              "[14 rows x 14 columns]"
            ]
          },
          "metadata": {},
          "execution_count": 98
        }
      ]
    },
    {
      "cell_type": "markdown",
      "source": [
        "#### From the above corelation table the correlation values between +- 0.5 +-1 indicates the high correlation between variables so we can conclude that :\n",
        "- acousticness and energy have a very high -0.662639 correlation(negative)\n",
        "- loudness and acousticness have a very high -0.557744 correlation(negative)\n",
        "- loudness and energy have a very high 0.755516 correlation(positive)\n",
        "\n",
        "#### So lets remove the related variables\n"
      ],
      "metadata": {
        "id": "vnvKYg3swHDE"
      }
    },
    {
      "cell_type": "code",
      "source": [
        "df = df.drop(['energy',\"loudness\",\"song_name\",\"audio_valence\"], axis = 1)"
      ],
      "metadata": {
        "id": "YrYhEzNImjqd"
      },
      "execution_count": null,
      "outputs": []
    },
    {
      "cell_type": "code",
      "source": [
        "df"
      ],
      "metadata": {
        "colab": {
          "base_uri": "https://localhost:8080/",
          "height": 487
        },
        "id": "u35zeLwgnhG0",
        "outputId": "f16b604e-d780-4a1b-b642-68e6081ca073"
      },
      "execution_count": null,
      "outputs": [
        {
          "output_type": "execute_result",
          "data": {
            "text/html": [
              "\n",
              "  <div id=\"df-2f662925-0cdb-4429-b852-82198efa52c1\">\n",
              "    <div class=\"colab-df-container\">\n",
              "      <div>\n",
              "<style scoped>\n",
              "    .dataframe tbody tr th:only-of-type {\n",
              "        vertical-align: middle;\n",
              "    }\n",
              "\n",
              "    .dataframe tbody tr th {\n",
              "        vertical-align: top;\n",
              "    }\n",
              "\n",
              "    .dataframe thead th {\n",
              "        text-align: right;\n",
              "    }\n",
              "</style>\n",
              "<table border=\"1\" class=\"dataframe\">\n",
              "  <thead>\n",
              "    <tr style=\"text-align: right;\">\n",
              "      <th></th>\n",
              "      <th>song_popularity</th>\n",
              "      <th>song_duration_ms</th>\n",
              "      <th>acousticness</th>\n",
              "      <th>danceability</th>\n",
              "      <th>instrumentalness</th>\n",
              "      <th>key</th>\n",
              "      <th>liveness</th>\n",
              "      <th>audio_mode</th>\n",
              "      <th>speechiness</th>\n",
              "      <th>tempo</th>\n",
              "      <th>time_signature</th>\n",
              "    </tr>\n",
              "  </thead>\n",
              "  <tbody>\n",
              "    <tr>\n",
              "      <th>0</th>\n",
              "      <td>73</td>\n",
              "      <td>262333</td>\n",
              "      <td>0.005520</td>\n",
              "      <td>0.496</td>\n",
              "      <td>0.000029</td>\n",
              "      <td>8</td>\n",
              "      <td>0.0589</td>\n",
              "      <td>1</td>\n",
              "      <td>0.0294</td>\n",
              "      <td>167.060</td>\n",
              "      <td>4</td>\n",
              "    </tr>\n",
              "    <tr>\n",
              "      <th>1</th>\n",
              "      <td>66</td>\n",
              "      <td>216933</td>\n",
              "      <td>0.010300</td>\n",
              "      <td>0.542</td>\n",
              "      <td>0.000000</td>\n",
              "      <td>3</td>\n",
              "      <td>0.1080</td>\n",
              "      <td>0</td>\n",
              "      <td>0.0498</td>\n",
              "      <td>105.256</td>\n",
              "      <td>4</td>\n",
              "    </tr>\n",
              "    <tr>\n",
              "      <th>2</th>\n",
              "      <td>76</td>\n",
              "      <td>231733</td>\n",
              "      <td>0.008170</td>\n",
              "      <td>0.737</td>\n",
              "      <td>0.447000</td>\n",
              "      <td>0</td>\n",
              "      <td>0.2550</td>\n",
              "      <td>1</td>\n",
              "      <td>0.0792</td>\n",
              "      <td>123.881</td>\n",
              "      <td>4</td>\n",
              "    </tr>\n",
              "    <tr>\n",
              "      <th>3</th>\n",
              "      <td>74</td>\n",
              "      <td>216933</td>\n",
              "      <td>0.026400</td>\n",
              "      <td>0.451</td>\n",
              "      <td>0.003550</td>\n",
              "      <td>0</td>\n",
              "      <td>0.1020</td>\n",
              "      <td>1</td>\n",
              "      <td>0.1070</td>\n",
              "      <td>122.444</td>\n",
              "      <td>4</td>\n",
              "    </tr>\n",
              "    <tr>\n",
              "      <th>4</th>\n",
              "      <td>56</td>\n",
              "      <td>223826</td>\n",
              "      <td>0.000954</td>\n",
              "      <td>0.447</td>\n",
              "      <td>0.000000</td>\n",
              "      <td>10</td>\n",
              "      <td>0.1130</td>\n",
              "      <td>1</td>\n",
              "      <td>0.0313</td>\n",
              "      <td>172.011</td>\n",
              "      <td>4</td>\n",
              "    </tr>\n",
              "    <tr>\n",
              "      <th>...</th>\n",
              "      <td>...</td>\n",
              "      <td>...</td>\n",
              "      <td>...</td>\n",
              "      <td>...</td>\n",
              "      <td>...</td>\n",
              "      <td>...</td>\n",
              "      <td>...</td>\n",
              "      <td>...</td>\n",
              "      <td>...</td>\n",
              "      <td>...</td>\n",
              "      <td>...</td>\n",
              "    </tr>\n",
              "    <tr>\n",
              "      <th>18830</th>\n",
              "      <td>60</td>\n",
              "      <td>159645</td>\n",
              "      <td>0.893000</td>\n",
              "      <td>0.500</td>\n",
              "      <td>0.000065</td>\n",
              "      <td>11</td>\n",
              "      <td>0.1110</td>\n",
              "      <td>1</td>\n",
              "      <td>0.0348</td>\n",
              "      <td>113.969</td>\n",
              "      <td>4</td>\n",
              "    </tr>\n",
              "    <tr>\n",
              "      <th>18831</th>\n",
              "      <td>60</td>\n",
              "      <td>205666</td>\n",
              "      <td>0.765000</td>\n",
              "      <td>0.495</td>\n",
              "      <td>0.000001</td>\n",
              "      <td>11</td>\n",
              "      <td>0.1050</td>\n",
              "      <td>0</td>\n",
              "      <td>0.0301</td>\n",
              "      <td>94.286</td>\n",
              "      <td>4</td>\n",
              "    </tr>\n",
              "    <tr>\n",
              "      <th>18832</th>\n",
              "      <td>23</td>\n",
              "      <td>182211</td>\n",
              "      <td>0.847000</td>\n",
              "      <td>0.719</td>\n",
              "      <td>0.000000</td>\n",
              "      <td>0</td>\n",
              "      <td>0.1250</td>\n",
              "      <td>1</td>\n",
              "      <td>0.0355</td>\n",
              "      <td>130.534</td>\n",
              "      <td>4</td>\n",
              "    </tr>\n",
              "    <tr>\n",
              "      <th>18833</th>\n",
              "      <td>55</td>\n",
              "      <td>352280</td>\n",
              "      <td>0.945000</td>\n",
              "      <td>0.488</td>\n",
              "      <td>0.015700</td>\n",
              "      <td>3</td>\n",
              "      <td>0.1190</td>\n",
              "      <td>1</td>\n",
              "      <td>0.0328</td>\n",
              "      <td>106.063</td>\n",
              "      <td>4</td>\n",
              "    </tr>\n",
              "    <tr>\n",
              "      <th>18834</th>\n",
              "      <td>60</td>\n",
              "      <td>193533</td>\n",
              "      <td>0.911000</td>\n",
              "      <td>0.640</td>\n",
              "      <td>0.000254</td>\n",
              "      <td>4</td>\n",
              "      <td>0.1040</td>\n",
              "      <td>1</td>\n",
              "      <td>0.0302</td>\n",
              "      <td>91.490</td>\n",
              "      <td>4</td>\n",
              "    </tr>\n",
              "  </tbody>\n",
              "</table>\n",
              "<p>18835 rows × 11 columns</p>\n",
              "</div>\n",
              "      <button class=\"colab-df-convert\" onclick=\"convertToInteractive('df-2f662925-0cdb-4429-b852-82198efa52c1')\"\n",
              "              title=\"Convert this dataframe to an interactive table.\"\n",
              "              style=\"display:none;\">\n",
              "        \n",
              "  <svg xmlns=\"http://www.w3.org/2000/svg\" height=\"24px\"viewBox=\"0 0 24 24\"\n",
              "       width=\"24px\">\n",
              "    <path d=\"M0 0h24v24H0V0z\" fill=\"none\"/>\n",
              "    <path d=\"M18.56 5.44l.94 2.06.94-2.06 2.06-.94-2.06-.94-.94-2.06-.94 2.06-2.06.94zm-11 1L8.5 8.5l.94-2.06 2.06-.94-2.06-.94L8.5 2.5l-.94 2.06-2.06.94zm10 10l.94 2.06.94-2.06 2.06-.94-2.06-.94-.94-2.06-.94 2.06-2.06.94z\"/><path d=\"M17.41 7.96l-1.37-1.37c-.4-.4-.92-.59-1.43-.59-.52 0-1.04.2-1.43.59L10.3 9.45l-7.72 7.72c-.78.78-.78 2.05 0 2.83L4 21.41c.39.39.9.59 1.41.59.51 0 1.02-.2 1.41-.59l7.78-7.78 2.81-2.81c.8-.78.8-2.07 0-2.86zM5.41 20L4 18.59l7.72-7.72 1.47 1.35L5.41 20z\"/>\n",
              "  </svg>\n",
              "      </button>\n",
              "      \n",
              "  <style>\n",
              "    .colab-df-container {\n",
              "      display:flex;\n",
              "      flex-wrap:wrap;\n",
              "      gap: 12px;\n",
              "    }\n",
              "\n",
              "    .colab-df-convert {\n",
              "      background-color: #E8F0FE;\n",
              "      border: none;\n",
              "      border-radius: 50%;\n",
              "      cursor: pointer;\n",
              "      display: none;\n",
              "      fill: #1967D2;\n",
              "      height: 32px;\n",
              "      padding: 0 0 0 0;\n",
              "      width: 32px;\n",
              "    }\n",
              "\n",
              "    .colab-df-convert:hover {\n",
              "      background-color: #E2EBFA;\n",
              "      box-shadow: 0px 1px 2px rgba(60, 64, 67, 0.3), 0px 1px 3px 1px rgba(60, 64, 67, 0.15);\n",
              "      fill: #174EA6;\n",
              "    }\n",
              "\n",
              "    [theme=dark] .colab-df-convert {\n",
              "      background-color: #3B4455;\n",
              "      fill: #D2E3FC;\n",
              "    }\n",
              "\n",
              "    [theme=dark] .colab-df-convert:hover {\n",
              "      background-color: #434B5C;\n",
              "      box-shadow: 0px 1px 3px 1px rgba(0, 0, 0, 0.15);\n",
              "      filter: drop-shadow(0px 1px 2px rgba(0, 0, 0, 0.3));\n",
              "      fill: #FFFFFF;\n",
              "    }\n",
              "  </style>\n",
              "\n",
              "      <script>\n",
              "        const buttonEl =\n",
              "          document.querySelector('#df-2f662925-0cdb-4429-b852-82198efa52c1 button.colab-df-convert');\n",
              "        buttonEl.style.display =\n",
              "          google.colab.kernel.accessAllowed ? 'block' : 'none';\n",
              "\n",
              "        async function convertToInteractive(key) {\n",
              "          const element = document.querySelector('#df-2f662925-0cdb-4429-b852-82198efa52c1');\n",
              "          const dataTable =\n",
              "            await google.colab.kernel.invokeFunction('convertToInteractive',\n",
              "                                                     [key], {});\n",
              "          if (!dataTable) return;\n",
              "\n",
              "          const docLinkHtml = 'Like what you see? Visit the ' +\n",
              "            '<a target=\"_blank\" href=https://colab.research.google.com/notebooks/data_table.ipynb>data table notebook</a>'\n",
              "            + ' to learn more about interactive tables.';\n",
              "          element.innerHTML = '';\n",
              "          dataTable['output_type'] = 'display_data';\n",
              "          await google.colab.output.renderOutput(dataTable, element);\n",
              "          const docLink = document.createElement('div');\n",
              "          docLink.innerHTML = docLinkHtml;\n",
              "          element.appendChild(docLink);\n",
              "        }\n",
              "      </script>\n",
              "    </div>\n",
              "  </div>\n",
              "  "
            ],
            "text/plain": [
              "       song_popularity  song_duration_ms  ...    tempo  time_signature\n",
              "0                   73            262333  ...  167.060               4\n",
              "1                   66            216933  ...  105.256               4\n",
              "2                   76            231733  ...  123.881               4\n",
              "3                   74            216933  ...  122.444               4\n",
              "4                   56            223826  ...  172.011               4\n",
              "...                ...               ...  ...      ...             ...\n",
              "18830               60            159645  ...  113.969               4\n",
              "18831               60            205666  ...   94.286               4\n",
              "18832               23            182211  ...  130.534               4\n",
              "18833               55            352280  ...  106.063               4\n",
              "18834               60            193533  ...   91.490               4\n",
              "\n",
              "[18835 rows x 11 columns]"
            ]
          },
          "metadata": {},
          "execution_count": 100
        }
      ]
    },
    {
      "cell_type": "code",
      "source": [
        "sns.heatmap(X.corr())\n",
        "\n"
      ],
      "metadata": {
        "colab": {
          "base_uri": "https://localhost:8080/",
          "height": 368
        },
        "id": "lPB-qJnY93Cn",
        "outputId": "f74ee59e-4a09-4d3d-aafe-fb906579bbd4"
      },
      "execution_count": null,
      "outputs": [
        {
          "output_type": "execute_result",
          "data": {
            "text/plain": [
              "<matplotlib.axes._subplots.AxesSubplot at 0x7f754946df50>"
            ]
          },
          "metadata": {},
          "execution_count": 101
        },
        {
          "output_type": "display_data",
          "data": {
            "image/png": "[encoded data removed]",
            "text/plain": [
              "<Figure size 432x288 with 2 Axes>"
            ]
          },
          "metadata": {
            "needs_background": "light"
          }
        }
      ]
    },
    {
      "cell_type": "markdown",
      "source": [
        "## On visual representation it was found that there was no presence of strong correlation  among variables"
      ],
      "metadata": {
        "id": "c5Q1A8Z6DTca"
      }
    },
    {
      "cell_type": "markdown",
      "source": [
        "## VARIATION INFLATION FACTOR TO CHECK MULTICOLINEARITY AMONG VARIABLES\n",
        "#### The VIF further bolsters the presence of multicolinearity among the feature variables."
      ],
      "metadata": {
        "id": "7bxG9tyfElJ8"
      }
    },
    {
      "cell_type": "code",
      "source": [
        "def calculate_vif_(df, thresh=5):\n",
        "    '''\n",
        "    Calculates VIF each feature in a pandas dataframe\n",
        "    A constant must be added to variance_inflation_factor or the results will be incorrect\n",
        "\n",
        "    :param df: the pandas dataframe containing only the predictor features, not the response variable\n",
        "    :param thresh: the max VIF value before the feature is removed from the dataframe\n",
        "    :return: dataframe with features removed\n",
        "    '''\n",
        "    const = add_constant(df)\n",
        "    cols = const.columns\n",
        "    variables = np.arange(const.shape[1])\n",
        "    vif_df = pd.Series([variance_inflation_factor(const.values, i) \n",
        "               for i in range(const.shape[1])], \n",
        "              index=const.columns).to_frame()\n",
        "\n",
        "    vif_df = vif_df.sort_values(by=0, ascending=False).rename(columns={0: 'VIF'})\n",
        "    vif_df = vif_df.drop('const')\n",
        "    vif_df = vif_df[vif_df['VIF'] > thresh]\n",
        "\n",
        "    print (\"Features above VIF threshold:\\n\")\n",
        "    print (f\"{vif_df[vif_df['VIF'] > thresh]}\")\n",
        "    col_to_drop = list(vif_df.index)\n",
        "\n",
        "    for i in col_to_drop:\n",
        "        print ('Dropping: {}'.format(i))\n",
        "        df = df.drop(columns=i)\n",
        "\n",
        "    return df"
      ],
      "metadata": {
        "id": "OD8KuDZwnOK-"
      },
      "execution_count": null,
      "outputs": []
    },
    {
      "cell_type": "code",
      "source": [
        "new_df = calculate_vif_(X, thresh=5)"
      ],
      "metadata": {
        "colab": {
          "base_uri": "https://localhost:8080/"
        },
        "id": "lxJ5yzX6Pate",
        "outputId": "d0fcb5d9-ec58-4ec7-c149-70dcd77ac840"
      },
      "execution_count": null,
      "outputs": [
        {
          "output_type": "stream",
          "name": "stderr",
          "text": [
            "/usr/local/lib/python3.7/dist-packages/statsmodels/tsa/tsatools.py:117: FutureWarning: In a future version of pandas all arguments of concat except for the argument 'objs' will be keyword-only\n",
            "  x = pd.concat(x[::order], 1)\n"
          ]
        },
        {
          "output_type": "stream",
          "name": "stdout",
          "text": [
            "Features above VIF threshold:\n",
            "\n",
            "Empty DataFrame\n",
            "Columns: [VIF]\n",
            "Index: []\n"
          ]
        }
      ]
    },
    {
      "cell_type": "markdown",
      "source": [
        "#### Since  no df is returned so its signifies that there is no colinearity among the features in dataset"
      ],
      "metadata": {
        "id": "vkl0-hX-PiQ7"
      }
    },
    {
      "cell_type": "markdown",
      "source": [
        "## Model Building and Model Evaluation"
      ],
      "metadata": {
        "id": "qBaQVWJqFVZS"
      }
    },
    {
      "cell_type": "code",
      "source": [
        "y = df[\"song_popularity\"]\n",
        "X = df.drop([\"song_popularity\"],axis=1)\n",
        "X_train, X_test, y_train, y_test = train_test_split(X, y, test_size=0.25)\n",
        "scaler = StandardScaler()\n",
        "X_train = scaler.fit_transform(X_train)\n",
        "X_test = scaler.fit_transform(X_test)\n",
        "lin_reg_model = LinearRegression().fit(X_train, y_train)\n",
        "pred_y = lin_reg_model.predict(scaler.fit_transform(X_test))\n",
        "print(\"MSE: {}\".format(metrics.mean_squared_error(y_test, pred_y)))"
      ],
      "metadata": {
        "colab": {
          "base_uri": "https://localhost:8080/"
        },
        "id": "ReH5o3cyCZg8",
        "outputId": "c5fbb874-8d2a-43ed-bb80-284f2baa8ec9"
      },
      "execution_count": null,
      "outputs": [
        {
          "output_type": "stream",
          "name": "stdout",
          "text": [
            "MSE: 451.18599697646283\n"
          ]
        }
      ]
    },
    {
      "cell_type": "code",
      "source": [
        "\n",
        "print(\"The MAE is mean_absolute_error:\",mean_absolute_error(y_test, pred_y))"
      ],
      "metadata": {
        "colab": {
          "base_uri": "https://localhost:8080/"
        },
        "id": "QuawganLOjci",
        "outputId": "2c0af8db-0a7b-4ffd-90d9-8542d997e633"
      },
      "execution_count": null,
      "outputs": [
        {
          "output_type": "stream",
          "name": "stdout",
          "text": [
            "MAE: 16.879589259708172\n"
          ]
        }
      ]
    },
    {
      "cell_type": "code",
      "source": [
        "\n",
        "print(\" The RMSE is RMSE mean_squared_error:\",math.sqrt(mean_squared_error(y_test, pred_y)))"
      ],
      "metadata": {
        "colab": {
          "base_uri": "https://localhost:8080/"
        },
        "id": "NhADikTaQud9",
        "outputId": "403dbd8d-59ff-41e4-e902-d4c9753b0fe8"
      },
      "execution_count": null,
      "outputs": [
        {
          "output_type": "stream",
          "name": "stdout",
          "text": [
            "RMSE: 21.241139257969728\n"
          ]
        }
      ]
    },
    {
      "cell_type": "markdown",
      "source": [
        "## IMPLEMENTING LASSO REGRESSION "
      ],
      "metadata": {
        "id": "m-b1W3AETQpI"
      }
    },
    {
      "cell_type": "code",
      "source": [
        "def score(y_pred, y_true):\n",
        "  error = np.square(np.log10(y_pred +1) - np.log10(y_true +1)).mean() ** 0.5\n",
        "  score = 1 - error\n",
        "  return score"
      ],
      "metadata": {
        "id": "tpeYT5r-SfZf"
      },
      "execution_count": null,
      "outputs": []
    },
    {
      "cell_type": "code",
      "source": [
        "actual_cost = list(y_test)\n",
        "actual_cost = np.asarray(actual_cost)"
      ],
      "metadata": {
        "id": "JSowJSK_S54o"
      },
      "execution_count": null,
      "outputs": []
    },
    {
      "cell_type": "code",
      "source": [
        "lasso_reg = Lasso(normalize=True)\n",
        "lasso_reg.fit(X_train,y_train)\n",
        "y_pred_lass =lasso_reg.predict(X_test)\n",
        "print(\"\\n\\nLasso SCORE : \", score(y_pred_lass, actual_cost))"
      ],
      "metadata": {
        "colab": {
          "base_uri": "https://localhost:8080/"
        },
        "id": "GtdGZObsRR09",
        "outputId": "40418586-a895-4051-aea4-fca95210934f"
      },
      "execution_count": null,
      "outputs": [
        {
          "output_type": "stream",
          "name": "stdout",
          "text": [
            "\n",
            "\n",
            "Lasso SCORE :  0.6646505796163737\n"
          ]
        },
        {
          "output_type": "stream",
          "name": "stderr",
          "text": [
            "/usr/local/lib/python3.7/dist-packages/sklearn/linear_model/_base.py:145: FutureWarning: 'normalize' was deprecated in version 1.0 and will be removed in 1.2.\n",
            "If you wish to scale the data, use Pipeline with a StandardScaler in a preprocessing stage. To reproduce the previous behavior:\n",
            "\n",
            "from sklearn.pipeline import make_pipeline\n",
            "\n",
            "model = make_pipeline(StandardScaler(with_mean=False), Lasso())\n",
            "\n",
            "If you wish to pass a sample_weight parameter, you need to pass it as a fit parameter to each step of the pipeline as follows:\n",
            "\n",
            "kwargs = {s[0] + '__sample_weight': sample_weight for s in model.steps}\n",
            "model.fit(X, y, **kwargs)\n",
            "\n",
            "Set parameter alpha to: original_alpha * np.sqrt(n_samples). \n",
            "  FutureWarning,\n"
          ]
        }
      ]
    },
    {
      "cell_type": "markdown",
      "source": [
        "## The Lasso Regression attained an accuracy of 66.46% with the given Dataset."
      ],
      "metadata": {
        "id": "g8XpEYqiTi-y"
      }
    },
    {
      "cell_type": "code",
      "source": [
        ""
      ],
      "metadata": {
        "id": "jmuMqGetTliM"
      },
      "execution_count": null,
      "outputs": []
    }
  ]
}